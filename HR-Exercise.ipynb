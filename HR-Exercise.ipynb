{
 "cells": [
  {
   "cell_type": "markdown",
   "metadata": {},
   "source": [
    "# HR Dataset - Statistics Review"
   ]
  },
  {
   "cell_type": "code",
   "execution_count": 87,
   "metadata": {
    "collapsed": true
   },
   "outputs": [],
   "source": [
    "import pandas as pd\n",
    "import numpy as np\n",
    "import scipy.stats as stats\n",
    "import matplotlib.pyplot as plt"
   ]
  },
  {
   "cell_type": "markdown",
   "metadata": {},
   "source": [
    "## Explore the data\n",
    "\n",
    "The data set we will use for this exercise comes from a Kaggle challenge and is often used for predictive analytics, namely to predict why the best and most experienced employees tend to leave the company.  We won't be using it for any predictive purposes here, but will instead use this data set to review many of the concepts explored in the Statistical Inference lectures.\n",
    "\n",
    "This data contains fields for various measures of employee performance and reported satisfaction levels, as well as categorical variables for events and salary level.  For now, just explore the data a bit to get a general idea of what is going on."
   ]
  },
  {
   "cell_type": "code",
   "execution_count": 88,
   "metadata": {
    "collapsed": true
   },
   "outputs": [],
   "source": [
    "HR_data = pd.read_csv('HR_comma_sep.csv')"
   ]
  },
  {
   "cell_type": "code",
   "execution_count": 89,
   "metadata": {
    "collapsed": false
   },
   "outputs": [
    {
     "data": {
      "text/html": [
       "<div>\n",
       "<table border=\"1\" class=\"dataframe\">\n",
       "  <thead>\n",
       "    <tr style=\"text-align: right;\">\n",
       "      <th></th>\n",
       "      <th>satisfaction_level</th>\n",
       "      <th>last_evaluation</th>\n",
       "      <th>number_project</th>\n",
       "      <th>average_montly_hours</th>\n",
       "      <th>time_spend_company</th>\n",
       "      <th>Work_accident</th>\n",
       "      <th>left</th>\n",
       "      <th>promotion_last_5years</th>\n",
       "      <th>sales</th>\n",
       "      <th>salary</th>\n",
       "    </tr>\n",
       "  </thead>\n",
       "  <tbody>\n",
       "    <tr>\n",
       "      <th>0</th>\n",
       "      <td>0.38</td>\n",
       "      <td>0.53</td>\n",
       "      <td>2</td>\n",
       "      <td>157</td>\n",
       "      <td>3</td>\n",
       "      <td>0</td>\n",
       "      <td>1</td>\n",
       "      <td>0</td>\n",
       "      <td>sales</td>\n",
       "      <td>low</td>\n",
       "    </tr>\n",
       "    <tr>\n",
       "      <th>1</th>\n",
       "      <td>0.80</td>\n",
       "      <td>0.86</td>\n",
       "      <td>5</td>\n",
       "      <td>262</td>\n",
       "      <td>6</td>\n",
       "      <td>0</td>\n",
       "      <td>1</td>\n",
       "      <td>0</td>\n",
       "      <td>sales</td>\n",
       "      <td>medium</td>\n",
       "    </tr>\n",
       "    <tr>\n",
       "      <th>2</th>\n",
       "      <td>0.11</td>\n",
       "      <td>0.88</td>\n",
       "      <td>7</td>\n",
       "      <td>272</td>\n",
       "      <td>4</td>\n",
       "      <td>0</td>\n",
       "      <td>1</td>\n",
       "      <td>0</td>\n",
       "      <td>sales</td>\n",
       "      <td>medium</td>\n",
       "    </tr>\n",
       "    <tr>\n",
       "      <th>3</th>\n",
       "      <td>0.72</td>\n",
       "      <td>0.87</td>\n",
       "      <td>5</td>\n",
       "      <td>223</td>\n",
       "      <td>5</td>\n",
       "      <td>0</td>\n",
       "      <td>1</td>\n",
       "      <td>0</td>\n",
       "      <td>sales</td>\n",
       "      <td>low</td>\n",
       "    </tr>\n",
       "    <tr>\n",
       "      <th>4</th>\n",
       "      <td>0.37</td>\n",
       "      <td>0.52</td>\n",
       "      <td>2</td>\n",
       "      <td>159</td>\n",
       "      <td>3</td>\n",
       "      <td>0</td>\n",
       "      <td>1</td>\n",
       "      <td>0</td>\n",
       "      <td>sales</td>\n",
       "      <td>low</td>\n",
       "    </tr>\n",
       "  </tbody>\n",
       "</table>\n",
       "</div>"
      ],
      "text/plain": [
       "   satisfaction_level  last_evaluation  number_project  average_montly_hours  \\\n",
       "0                0.38             0.53               2                   157   \n",
       "1                0.80             0.86               5                   262   \n",
       "2                0.11             0.88               7                   272   \n",
       "3                0.72             0.87               5                   223   \n",
       "4                0.37             0.52               2                   159   \n",
       "\n",
       "   time_spend_company  Work_accident  left  promotion_last_5years  sales  \\\n",
       "0                   3              0     1                      0  sales   \n",
       "1                   6              0     1                      0  sales   \n",
       "2                   4              0     1                      0  sales   \n",
       "3                   5              0     1                      0  sales   \n",
       "4                   3              0     1                      0  sales   \n",
       "\n",
       "   salary  \n",
       "0     low  \n",
       "1  medium  \n",
       "2  medium  \n",
       "3     low  \n",
       "4     low  "
      ]
     },
     "execution_count": 89,
     "metadata": {},
     "output_type": "execute_result"
    }
   ],
   "source": [
    "HR_data.head()"
   ]
  },
  {
   "cell_type": "code",
   "execution_count": 90,
   "metadata": {
    "collapsed": false
   },
   "outputs": [
    {
     "data": {
      "text/plain": [
       "(14999, 10)"
      ]
     },
     "execution_count": 90,
     "metadata": {},
     "output_type": "execute_result"
    }
   ],
   "source": [
    "HR_data.shape"
   ]
  },
  {
   "cell_type": "code",
   "execution_count": 91,
   "metadata": {
    "collapsed": false
   },
   "outputs": [
    {
     "data": {
      "text/plain": [
       "Index(['satisfaction_level', 'last_evaluation', 'number_project',\n",
       "       'average_montly_hours', 'time_spend_company', 'Work_accident', 'left',\n",
       "       'promotion_last_5years', 'sales', 'salary'],\n",
       "      dtype='object')"
      ]
     },
     "execution_count": 91,
     "metadata": {},
     "output_type": "execute_result"
    }
   ],
   "source": [
    "HR_data.columns"
   ]
  },
  {
   "cell_type": "code",
   "execution_count": 92,
   "metadata": {
    "collapsed": false
   },
   "outputs": [
    {
     "data": {
      "text/plain": [
       "satisfaction_level       float64\n",
       "last_evaluation          float64\n",
       "number_project             int64\n",
       "average_montly_hours       int64\n",
       "time_spend_company         int64\n",
       "Work_accident              int64\n",
       "left                       int64\n",
       "promotion_last_5years      int64\n",
       "sales                     object\n",
       "salary                    object\n",
       "dtype: object"
      ]
     },
     "execution_count": 92,
     "metadata": {},
     "output_type": "execute_result"
    }
   ],
   "source": [
    "HR_data.dtypes"
   ]
  },
  {
   "cell_type": "code",
   "execution_count": 93,
   "metadata": {
    "collapsed": false
   },
   "outputs": [
    {
     "data": {
      "text/html": [
       "<div>\n",
       "<table border=\"1\" class=\"dataframe\">\n",
       "  <thead>\n",
       "    <tr style=\"text-align: right;\">\n",
       "      <th></th>\n",
       "      <th>satisfaction_level</th>\n",
       "      <th>last_evaluation</th>\n",
       "      <th>number_project</th>\n",
       "      <th>average_montly_hours</th>\n",
       "      <th>time_spend_company</th>\n",
       "      <th>Work_accident</th>\n",
       "      <th>left</th>\n",
       "      <th>promotion_last_5years</th>\n",
       "    </tr>\n",
       "  </thead>\n",
       "  <tbody>\n",
       "    <tr>\n",
       "      <th>count</th>\n",
       "      <td>14999.000000</td>\n",
       "      <td>14999.000000</td>\n",
       "      <td>14999.000000</td>\n",
       "      <td>14999.000000</td>\n",
       "      <td>14999.000000</td>\n",
       "      <td>14999.000000</td>\n",
       "      <td>14999.000000</td>\n",
       "      <td>14999.000000</td>\n",
       "    </tr>\n",
       "    <tr>\n",
       "      <th>mean</th>\n",
       "      <td>0.612834</td>\n",
       "      <td>0.716102</td>\n",
       "      <td>3.803054</td>\n",
       "      <td>201.050337</td>\n",
       "      <td>3.498233</td>\n",
       "      <td>0.144610</td>\n",
       "      <td>0.238083</td>\n",
       "      <td>0.021268</td>\n",
       "    </tr>\n",
       "    <tr>\n",
       "      <th>std</th>\n",
       "      <td>0.248631</td>\n",
       "      <td>0.171169</td>\n",
       "      <td>1.232592</td>\n",
       "      <td>49.943099</td>\n",
       "      <td>1.460136</td>\n",
       "      <td>0.351719</td>\n",
       "      <td>0.425924</td>\n",
       "      <td>0.144281</td>\n",
       "    </tr>\n",
       "    <tr>\n",
       "      <th>min</th>\n",
       "      <td>0.090000</td>\n",
       "      <td>0.360000</td>\n",
       "      <td>2.000000</td>\n",
       "      <td>96.000000</td>\n",
       "      <td>2.000000</td>\n",
       "      <td>0.000000</td>\n",
       "      <td>0.000000</td>\n",
       "      <td>0.000000</td>\n",
       "    </tr>\n",
       "    <tr>\n",
       "      <th>25%</th>\n",
       "      <td>0.440000</td>\n",
       "      <td>0.560000</td>\n",
       "      <td>3.000000</td>\n",
       "      <td>156.000000</td>\n",
       "      <td>3.000000</td>\n",
       "      <td>0.000000</td>\n",
       "      <td>0.000000</td>\n",
       "      <td>0.000000</td>\n",
       "    </tr>\n",
       "    <tr>\n",
       "      <th>50%</th>\n",
       "      <td>0.640000</td>\n",
       "      <td>0.720000</td>\n",
       "      <td>4.000000</td>\n",
       "      <td>200.000000</td>\n",
       "      <td>3.000000</td>\n",
       "      <td>0.000000</td>\n",
       "      <td>0.000000</td>\n",
       "      <td>0.000000</td>\n",
       "    </tr>\n",
       "    <tr>\n",
       "      <th>75%</th>\n",
       "      <td>0.820000</td>\n",
       "      <td>0.870000</td>\n",
       "      <td>5.000000</td>\n",
       "      <td>245.000000</td>\n",
       "      <td>4.000000</td>\n",
       "      <td>0.000000</td>\n",
       "      <td>0.000000</td>\n",
       "      <td>0.000000</td>\n",
       "    </tr>\n",
       "    <tr>\n",
       "      <th>max</th>\n",
       "      <td>1.000000</td>\n",
       "      <td>1.000000</td>\n",
       "      <td>7.000000</td>\n",
       "      <td>310.000000</td>\n",
       "      <td>10.000000</td>\n",
       "      <td>1.000000</td>\n",
       "      <td>1.000000</td>\n",
       "      <td>1.000000</td>\n",
       "    </tr>\n",
       "  </tbody>\n",
       "</table>\n",
       "</div>"
      ],
      "text/plain": [
       "       satisfaction_level  last_evaluation  number_project  \\\n",
       "count        14999.000000     14999.000000    14999.000000   \n",
       "mean             0.612834         0.716102        3.803054   \n",
       "std              0.248631         0.171169        1.232592   \n",
       "min              0.090000         0.360000        2.000000   \n",
       "25%              0.440000         0.560000        3.000000   \n",
       "50%              0.640000         0.720000        4.000000   \n",
       "75%              0.820000         0.870000        5.000000   \n",
       "max              1.000000         1.000000        7.000000   \n",
       "\n",
       "       average_montly_hours  time_spend_company  Work_accident          left  \\\n",
       "count          14999.000000        14999.000000   14999.000000  14999.000000   \n",
       "mean             201.050337            3.498233       0.144610      0.238083   \n",
       "std               49.943099            1.460136       0.351719      0.425924   \n",
       "min               96.000000            2.000000       0.000000      0.000000   \n",
       "25%              156.000000            3.000000       0.000000      0.000000   \n",
       "50%              200.000000            3.000000       0.000000      0.000000   \n",
       "75%              245.000000            4.000000       0.000000      0.000000   \n",
       "max              310.000000           10.000000       1.000000      1.000000   \n",
       "\n",
       "       promotion_last_5years  \n",
       "count           14999.000000  \n",
       "mean                0.021268  \n",
       "std                 0.144281  \n",
       "min                 0.000000  \n",
       "25%                 0.000000  \n",
       "50%                 0.000000  \n",
       "75%                 0.000000  \n",
       "max                 1.000000  "
      ]
     },
     "execution_count": 93,
     "metadata": {},
     "output_type": "execute_result"
    }
   ],
   "source": [
    "HR_data.describe()"
   ]
  },
  {
   "cell_type": "code",
   "execution_count": 94,
   "metadata": {
    "collapsed": false
   },
   "outputs": [
    {
     "data": {
      "text/plain": [
       "satisfaction_level       float64\n",
       "last_evaluation          float64\n",
       "number_project             int64\n",
       "average_monthly_hours      int64\n",
       "time_spend_company         int64\n",
       "Work_accident              int64\n",
       "left                       int64\n",
       "promotion_last_5years      int64\n",
       "sales                     object\n",
       "salary                    object\n",
       "dtype: object"
      ]
     },
     "execution_count": 94,
     "metadata": {},
     "output_type": "execute_result"
    }
   ],
   "source": [
    "HR_data.rename(columns={list(HR_data)[3]: 'average_monthly_hours'}, inplace=True)\n",
    "HR_data.dtypes"
   ]
  },
  {
   "cell_type": "code",
   "execution_count": 95,
   "metadata": {
    "collapsed": false
   },
   "outputs": [
    {
     "data": {
      "text/plain": [
       "satisfaction_level       float64\n",
       "last_evaluation          float64\n",
       "number_project             int64\n",
       "average_monthly_hours      int64\n",
       "time_spend_company         int64\n",
       "work_accident              int64\n",
       "left                       int64\n",
       "promotion_last_5years      int64\n",
       "sales                     object\n",
       "salary                    object\n",
       "dtype: object"
      ]
     },
     "execution_count": 95,
     "metadata": {},
     "output_type": "execute_result"
    }
   ],
   "source": [
    "HR_data.rename(columns={list(HR_data)[5]: 'work_accident'}, inplace=True)\n",
    "HR_data.dtypes"
   ]
  },
  {
   "cell_type": "code",
   "execution_count": 96,
   "metadata": {
    "collapsed": false
   },
   "outputs": [
    {
     "data": {
      "text/html": [
       "<div>\n",
       "<table border=\"1\" class=\"dataframe\">\n",
       "  <thead>\n",
       "    <tr style=\"text-align: right;\">\n",
       "      <th></th>\n",
       "      <th>satisfaction_level</th>\n",
       "      <th>last_evaluation</th>\n",
       "      <th>number_project</th>\n",
       "      <th>average_monthly_hours</th>\n",
       "      <th>time_spend_company</th>\n",
       "      <th>work_accident</th>\n",
       "      <th>left</th>\n",
       "      <th>promotion_last_5years</th>\n",
       "      <th>sales</th>\n",
       "      <th>salary</th>\n",
       "    </tr>\n",
       "  </thead>\n",
       "  <tbody>\n",
       "    <tr>\n",
       "      <th>0</th>\n",
       "      <td>0.38</td>\n",
       "      <td>0.53</td>\n",
       "      <td>2</td>\n",
       "      <td>157</td>\n",
       "      <td>3</td>\n",
       "      <td>0</td>\n",
       "      <td>1</td>\n",
       "      <td>0</td>\n",
       "      <td>sales</td>\n",
       "      <td>low</td>\n",
       "    </tr>\n",
       "    <tr>\n",
       "      <th>1</th>\n",
       "      <td>0.80</td>\n",
       "      <td>0.86</td>\n",
       "      <td>5</td>\n",
       "      <td>262</td>\n",
       "      <td>6</td>\n",
       "      <td>0</td>\n",
       "      <td>1</td>\n",
       "      <td>0</td>\n",
       "      <td>sales</td>\n",
       "      <td>medium</td>\n",
       "    </tr>\n",
       "    <tr>\n",
       "      <th>2</th>\n",
       "      <td>0.11</td>\n",
       "      <td>0.88</td>\n",
       "      <td>7</td>\n",
       "      <td>272</td>\n",
       "      <td>4</td>\n",
       "      <td>0</td>\n",
       "      <td>1</td>\n",
       "      <td>0</td>\n",
       "      <td>sales</td>\n",
       "      <td>medium</td>\n",
       "    </tr>\n",
       "    <tr>\n",
       "      <th>3</th>\n",
       "      <td>0.72</td>\n",
       "      <td>0.87</td>\n",
       "      <td>5</td>\n",
       "      <td>223</td>\n",
       "      <td>5</td>\n",
       "      <td>0</td>\n",
       "      <td>1</td>\n",
       "      <td>0</td>\n",
       "      <td>sales</td>\n",
       "      <td>low</td>\n",
       "    </tr>\n",
       "    <tr>\n",
       "      <th>4</th>\n",
       "      <td>0.37</td>\n",
       "      <td>0.52</td>\n",
       "      <td>2</td>\n",
       "      <td>159</td>\n",
       "      <td>3</td>\n",
       "      <td>0</td>\n",
       "      <td>1</td>\n",
       "      <td>0</td>\n",
       "      <td>sales</td>\n",
       "      <td>low</td>\n",
       "    </tr>\n",
       "  </tbody>\n",
       "</table>\n",
       "</div>"
      ],
      "text/plain": [
       "   satisfaction_level  last_evaluation  number_project  average_monthly_hours  \\\n",
       "0                0.38             0.53               2                    157   \n",
       "1                0.80             0.86               5                    262   \n",
       "2                0.11             0.88               7                    272   \n",
       "3                0.72             0.87               5                    223   \n",
       "4                0.37             0.52               2                    159   \n",
       "\n",
       "   time_spend_company  work_accident  left  promotion_last_5years  sales  \\\n",
       "0                   3              0     1                      0  sales   \n",
       "1                   6              0     1                      0  sales   \n",
       "2                   4              0     1                      0  sales   \n",
       "3                   5              0     1                      0  sales   \n",
       "4                   3              0     1                      0  sales   \n",
       "\n",
       "   salary  \n",
       "0     low  \n",
       "1  medium  \n",
       "2  medium  \n",
       "3     low  \n",
       "4     low  "
      ]
     },
     "execution_count": 96,
     "metadata": {},
     "output_type": "execute_result"
    }
   ],
   "source": [
    "HR_data.head()"
   ]
  },
  {
   "cell_type": "markdown",
   "metadata": {},
   "source": [
    "## Probability, Expectation Values, and Variance\n",
    "\n",
    "The concepts of probability, expectation values, and variance are the bedrock of statistical inference.  Let's begin by employing these concepts to see if we can find interesting paths to go down which may provide insight into the inner workings of this company.\n",
    "\n",
    "1. What is the probability that a randomly selected employee left the company?  What about experienced a work accident?  Also, compute the probability that a randomly selected employee left the company and experienced a work accident.\n",
    "1. Compute the 25th, 50th, and 90th percentiles for the satisfaction level score for all employees that left the company.  Compare these results to the same percentiles for those that did not leave.  What can you say about the results?\n",
    "1. Compute the variance and standard deviation of hours worked.\n",
    "1. Compare the variance between the satisfaction levels of employees who left versus those who stayed.  Which is larger?  What does this mean?\n",
    "1. Compute the mean satisfaction level for each salary category.  Comment on your results.\n",
    "1. Given an employees salary level (low, medium, or high), calculate the probability that they worked more than two standard deviations of the average monthly hours across all groups.  In other words, compute\n",
    "$$P(hours > 2\\sigma \\vert salary ) = \\dfrac{P(salary \\vert hours > 2\\sigma) P(hours > 2\\sigma)}{P(salary)}$$\n",
    "1. What can you say about your results in part 6?\n",
    "1. Repeat parts 6 and 7 for \n",
    "$$P(left \\vert salary ) = \\dfrac{P(salary \\vert left) P(left)}{P(salary)}$$\n",
    "1. What is the odds ratio of an employee with a high salary getting a promotion within the past five years versus a low salary employee?  Comment on your results.\n",
    "1. Suppose we were to pull 50 random samples of employee satisfaction levels.  What would approximately be the mean of this sample?  What would be the mean of, say, 10 sets of random samples?  Demonstrate your assertions by writing Python code to do just that.\n"
   ]
  },
  {
   "cell_type": "code",
   "execution_count": 97,
   "metadata": {
    "collapsed": false
   },
   "outputs": [],
   "source": [
    "# Question 1\n",
    "N = len(HR_data)\n",
    "p_left = len(HR_data[HR_data.left == 1]) / N\n",
    "p_work_acc = len(HR_data[HR_data.work_accident == 1]) / N\n",
    "p_work_acc_left = len(HR_data[(HR_data.work_accident == 1) & (HR_data.left == 1)]) / N"
   ]
  },
  {
   "cell_type": "code",
   "execution_count": 98,
   "metadata": {
    "collapsed": false
   },
   "outputs": [
    {
     "name": "stdout",
     "output_type": "stream",
     "text": [
      "0.2380825388359224\n",
      "0.1446096406427095\n",
      "0.01126741782785519\n"
     ]
    }
   ],
   "source": [
    "print(p_left)\n",
    "print(p_work_acc)\n",
    "print(p_work_acc_left)"
   ]
  },
  {
   "cell_type": "code",
   "execution_count": 99,
   "metadata": {
    "collapsed": false
   },
   "outputs": [
    {
     "data": {
      "text/plain": [
       "0.25    0.13\n",
       "0.50    0.41\n",
       "0.90    0.84\n",
       "Name: satisfaction_level, dtype: float64"
      ]
     },
     "execution_count": 99,
     "metadata": {},
     "output_type": "execute_result"
    }
   ],
   "source": [
    "# Q2: Compute the 25th, 50th, and 90th percentiles for the satisfaction level score for all employees that left the\n",
    "#company. Compare these results to the same percentiles for those that did not leave. What can you say about the \n",
    "# results?\n",
    "\n",
    "left = HR_data[HR_data.left == 1]\n",
    "stayed = HR_data[HR_data.left == 0]\n",
    "left['satisfaction_level'].quantile([0.25, 0.5, 0.90])"
   ]
  },
  {
   "cell_type": "code",
   "execution_count": 100,
   "metadata": {
    "collapsed": false
   },
   "outputs": [
    {
     "data": {
      "text/plain": [
       "0.25    0.54\n",
       "0.50    0.69\n",
       "0.90    0.94\n",
       "Name: satisfaction_level, dtype: float64"
      ]
     },
     "execution_count": 100,
     "metadata": {},
     "output_type": "execute_result"
    }
   ],
   "source": [
    "stayed['satisfaction_level'].quantile([0.25, 0.5, 0.9])"
   ]
  },
  {
   "cell_type": "code",
   "execution_count": 101,
   "metadata": {
    "collapsed": true
   },
   "outputs": [],
   "source": [
    "# the quantiles for employees that left are much lower than employees that did not"
   ]
  },
  {
   "cell_type": "code",
   "execution_count": 102,
   "metadata": {
    "collapsed": false
   },
   "outputs": [],
   "source": [
    "# Q3: Compute the variance and std deviation for hrs worked\n",
    "\n",
    "hr_worked = HR_data['average_monthly_hours']\n",
    "\n",
    "std_dev = np.std(hr_worked)\n",
    "variance = np.var(hr_worked)"
   ]
  },
  {
   "cell_type": "code",
   "execution_count": 103,
   "metadata": {
    "collapsed": false
   },
   "outputs": [
    {
     "name": "stdout",
     "output_type": "stream",
     "text": [
      "standard deviation = 49.94143446256241, variance = 2494.1468761784163\n"
     ]
    }
   ],
   "source": [
    "print('standard deviation = {}, variance = {}'.format(std_dev, variance))"
   ]
  },
  {
   "cell_type": "code",
   "execution_count": 104,
   "metadata": {
    "collapsed": false
   },
   "outputs": [
    {
     "name": "stdout",
     "output_type": "stream",
     "text": [
      "variance of those who left: 0.06964135135701076, variance of those who stayed: 0.04712991579181753\n"
     ]
    }
   ],
   "source": [
    "# Q4: Compare the variance between the satisfaction levels of employees who left versus those who stayed. \n",
    "# Which is larger? What does this mean?\n",
    "\n",
    "var_left = np.var(left['satisfaction_level'])\n",
    "var_stayed = np.var(stayed['satisfaction_level'])\n",
    "\n",
    "print('variance of those who left: {}, variance of those who stayed: {}'.format(var_left, var_stayed))"
   ]
  },
  {
   "cell_type": "code",
   "execution_count": 105,
   "metadata": {
    "collapsed": true
   },
   "outputs": [],
   "source": [
    "# the variance of those who stayed is a bit left than the variance of those who left. This means that there was greater\n",
    "# spread in the satisfaction levels of those who left compared to those who stayed. "
   ]
  },
  {
   "cell_type": "code",
   "execution_count": 106,
   "metadata": {
    "collapsed": false
   },
   "outputs": [
    {
     "data": {
      "text/plain": [
       "salary\n",
       "high      0.637470\n",
       "low       0.600753\n",
       "medium    0.621817\n",
       "Name: satisfaction_level, dtype: float64"
      ]
     },
     "execution_count": 106,
     "metadata": {},
     "output_type": "execute_result"
    }
   ],
   "source": [
    "# Q5: Compute the mean satisfaction level for each salary category. Comment on your results.\n",
    "\n",
    "HR_data.groupby('salary')['satisfaction_level'].mean()"
   ]
  },
  {
   "cell_type": "code",
   "execution_count": 107,
   "metadata": {
    "collapsed": true
   },
   "outputs": [],
   "source": [
    "# The mean satisfaction level is similar for all three categories. The highest category also has the highest\n",
    "# satisfaction leve, but not by a lot. "
   ]
  },
  {
   "cell_type": "code",
   "execution_count": 108,
   "metadata": {
    "collapsed": false
   },
   "outputs": [
    {
     "name": "stdout",
     "output_type": "stream",
     "text": [
      "low       0.013532\n",
      "medium    0.008998\n",
      "high      0.001617\n",
      "Name: salary, dtype: float64\n"
     ]
    }
   ],
   "source": [
    "# Q6: Given an employee's salary level (low, medium, or high), calculate the probability that \n",
    "# they worked more than two standard deviations of the average monthly hours across all groups.\n",
    "\n",
    "mean_hours_worked = HR_data['average_monthly_hours'].mean()\n",
    "std_dev_hours = np.std(HR_data['average_monthly_hours'])\n",
    "two_std = mean_hours_worked + 2 * std_dev_hours\n",
    "\n",
    "p_hours = len(HR_data[HR_data.average_monthly_hours >= two_std]) / N # p of working greater than 2 std dev's > than mean\n",
    "p_salary = HR_data.salary.value_counts() / N # probability of being in each salary category\n",
    "\n",
    "p_salary_hours = HR_data[HR_data.average_monthly_hours > two_std].salary.value_counts() / len(HR_data[HR_data.average_monthly_hours > two_std])\n",
    "# probability of being in a given salary category given that the person worked > 2 std's more than the mean hours\n",
    "\n",
    "p_hours_salary = (p_salary_hours * p_hours) / p_salary # use bayes theorem p(A|B) = p(A) * p(B|A) / p(B)\n",
    "\n",
    "print(p_hours_salary)"
   ]
  },
  {
   "cell_type": "code",
   "execution_count": 109,
   "metadata": {
    "collapsed": true
   },
   "outputs": [],
   "source": [
    "# The probability of working more than 2x the std deviation of monthly hours worked increases as salary decreases"
   ]
  },
  {
   "cell_type": "code",
   "execution_count": 110,
   "metadata": {
    "collapsed": false
   },
   "outputs": [
    {
     "name": "stdout",
     "output_type": "stream",
     "text": [
      "low       0.296884\n",
      "medium    0.204313\n",
      "high      0.066289\n",
      "Name: salary, dtype: float64\n"
     ]
    }
   ],
   "source": [
    "# Repeat parts 6 and 7 for the probability that someone left given their salary category:\n",
    "# p(left|salary) = p(salary|left) * p(left) / p(salary)\n",
    "\n",
    "p_left = len(HR_data[HR_data.left == 1]) / N\n",
    "p_salary = HR_data.salary.value_counts() / N\n",
    "p_salary_left = HR_data[HR_data.left == 1].salary.value_counts() / len(HR_data[HR_data.left == 1])\n",
    "\n",
    "p_left_salary = p_salary_left * p_left / p_salary\n",
    "\n",
    "print(p_left_salary)"
   ]
  },
  {
   "cell_type": "code",
   "execution_count": 111,
   "metadata": {
    "collapsed": false
   },
   "outputs": [
    {
     "name": "stdout",
     "output_type": "stream",
     "text": [
      "low       0.608233\n",
      "medium    0.368804\n",
      "high      0.022963\n",
      "Name: salary, dtype: float64\n"
     ]
    }
   ],
   "source": [
    "print(p_salary_left)"
   ]
  },
  {
   "cell_type": "code",
   "execution_count": 112,
   "metadata": {
    "collapsed": false
   },
   "outputs": [
    {
     "name": "stdout",
     "output_type": "stream",
     "text": [
      "0.2380825388359224\n"
     ]
    }
   ],
   "source": [
    "print(p_left)"
   ]
  },
  {
   "cell_type": "code",
   "execution_count": 113,
   "metadata": {
    "collapsed": false
   },
   "outputs": [
    {
     "name": "stdout",
     "output_type": "stream",
     "text": [
      "low       0.487766\n",
      "medium    0.429762\n",
      "high      0.082472\n",
      "Name: salary, dtype: float64\n"
     ]
    }
   ],
   "source": [
    "print(p_salary)"
   ]
  },
  {
   "cell_type": "code",
   "execution_count": 114,
   "metadata": {
    "collapsed": true
   },
   "outputs": [],
   "source": [
    "# The highest paid employees are the least likely to leave the company while the lowest paid employees are most likely \n",
    "# to leave the company. "
   ]
  },
  {
   "cell_type": "code",
   "execution_count": 115,
   "metadata": {
    "collapsed": false
   },
   "outputs": [],
   "source": [
    "# Q9: What is the odds ratio of an employee with a high salary getting a promotion within the past five years versus a\n",
    "# low salary employee? Comment on your results."
   ]
  },
  {
   "cell_type": "code",
   "execution_count": 116,
   "metadata": {
    "collapsed": false
   },
   "outputs": [],
   "source": [
    "N = HR_data.salary.value_counts()\n",
    "\n",
    "got_p = HR_data[HR_data.promotion_last_5years == 1].salary.value_counts() / N\n",
    "no_p = HR_data[HR_data.promotion_last_5years == 0].salary.value_counts() / N\n",
    "\n",
    "odds = (got_p['high'] / no_p['high']) / (got_p['low']/no_p['low']) \n",
    "# see https://en.wikipedia.org/wiki/Odds_ratio for odds ratio calculation"
   ]
  },
  {
   "cell_type": "code",
   "execution_count": 117,
   "metadata": {
    "collapsed": false
   },
   "outputs": [
    {
     "data": {
      "text/plain": [
       "high      0.058205\n",
       "low       0.009021\n",
       "medium    0.028079\n",
       "Name: salary, dtype: float64"
      ]
     },
     "execution_count": 117,
     "metadata": {},
     "output_type": "execute_result"
    }
   ],
   "source": [
    "got_p"
   ]
  },
  {
   "cell_type": "code",
   "execution_count": 118,
   "metadata": {
    "collapsed": false
   },
   "outputs": [
    {
     "data": {
      "text/plain": [
       "low       0.990979\n",
       "medium    0.971921\n",
       "high      0.941795\n",
       "Name: salary, dtype: float64"
      ]
     },
     "execution_count": 118,
     "metadata": {},
     "output_type": "execute_result"
    }
   ],
   "source": [
    "no_p"
   ]
  },
  {
   "cell_type": "code",
   "execution_count": 119,
   "metadata": {
    "collapsed": false
   },
   "outputs": [
    {
     "data": {
      "text/plain": [
       "6.788919235271166"
      ]
     },
     "execution_count": 119,
     "metadata": {},
     "output_type": "execute_result"
    }
   ],
   "source": [
    "odds"
   ]
  },
  {
   "cell_type": "code",
   "execution_count": 120,
   "metadata": {
    "collapsed": true
   },
   "outputs": [],
   "source": [
    "# A high salary is correlated with probability of getting a promotion since the OR is > 1"
   ]
  },
  {
   "cell_type": "code",
   "execution_count": 121,
   "metadata": {
    "collapsed": false
   },
   "outputs": [],
   "source": [
    "# Suppose we were to pull 50 random samples of employee satisfaction levels. What would \n",
    "# approximately be the mean of this sample? What would be the mean of, say, 10 sets of random \n",
    "# samples? Demonstrate your assertions by writing Python code to do just that.\n",
    "\n",
    "means = [HR_data['satisfaction_level'].sample(n=50).mean() for i in list(range(10))]"
   ]
  },
  {
   "cell_type": "code",
   "execution_count": 122,
   "metadata": {
    "collapsed": false
   },
   "outputs": [
    {
     "data": {
      "text/plain": [
       "[0.5690000000000002,\n",
       " 0.6384000000000001,\n",
       " 0.6197999999999999,\n",
       " 0.6043999999999998,\n",
       " 0.6303999999999997,\n",
       " 0.6001999999999998,\n",
       " 0.6417999999999999,\n",
       " 0.6241999999999999,\n",
       " 0.6354,\n",
       " 0.5974]"
      ]
     },
     "execution_count": 122,
     "metadata": {},
     "output_type": "execute_result"
    }
   ],
   "source": [
    "means"
   ]
  },
  {
   "cell_type": "code",
   "execution_count": 123,
   "metadata": {
    "collapsed": false
   },
   "outputs": [
    {
     "data": {
      "text/plain": [
       "0.61609999999999987"
      ]
     },
     "execution_count": 123,
     "metadata": {},
     "output_type": "execute_result"
    }
   ],
   "source": [
    "np.mean(means)"
   ]
  },
  {
   "cell_type": "code",
   "execution_count": 124,
   "metadata": {
    "collapsed": true
   },
   "outputs": [],
   "source": [
    "# the mean of each sample is relatively close to the mean of the means"
   ]
  },
  {
   "cell_type": "markdown",
   "metadata": {
    "collapsed": true
   },
   "source": [
    "## Distributions and The Central Limit Theorem\n",
    "### The Bernoulli Distribution\n",
    "Bernoulli distributions are the result of a random variable with a binary outcome, like a coin clip or medical test giving a positive or negative result.  Typically, we represent the outcomes of a Bernoulli Random variable $X$ of only taking values of 0 or 1, with probabilities $p$ and $1 - p$ respectively, mean $p$, variance $p(1 - p)$, and PMF given by \n",
    "$$ P(X = x) = p^x (1 - p)^{1 - x} $$\n",
    "Bernoulli random variables crop up very often in statistical analysis, most often in the form of Binomial trials, or, as a sum of independent Bernoulli variables with PMF given by \n",
    "$$ P(X = x) = {n \\choose x} p^x (1 - p)^{n - x} $$\n",
    "where\n",
    "$$ {n \\choose x} = \\frac{n!}{x!(n - x)!} $$\n",
    "In this exercise you'll take a look at the HR data and apply these concepts to gain insight."
   ]
  },
  {
   "cell_type": "markdown",
   "metadata": {},
   "source": [
    "Using the HR data, answer the following.\n",
    "1. Which variables in the HR data can be said to be Bernoulli random variables?\n",
    "2. For the k variables you identified in part 1, compute the probabilities $p_k$, of each having a positive $(x = 1)$ result.\n",
    "3. Compute the variance of each of the variables in part 2 using $p_k$ as described above.\n",
    "4. For each of the k variables, compute the probability of randomly selecting exactly 3500 employees with a positive result.  Comment on your answer.\n",
    "5. For each of the k variables, compute the probability of randomly selecting at 3500 **or less** with a positive result.  Comment on your answer.\n",
    "6. Now plot both the PMF and CDF as a function of the number of drawn samples for each of the k variables.  Comment on your results."
   ]
  },
  {
   "cell_type": "code",
   "execution_count": 125,
   "metadata": {
    "collapsed": false
   },
   "outputs": [
    {
     "data": {
      "text/html": [
       "<div>\n",
       "<table border=\"1\" class=\"dataframe\">\n",
       "  <thead>\n",
       "    <tr style=\"text-align: right;\">\n",
       "      <th></th>\n",
       "      <th>satisfaction_level</th>\n",
       "      <th>last_evaluation</th>\n",
       "      <th>number_project</th>\n",
       "      <th>average_monthly_hours</th>\n",
       "      <th>time_spend_company</th>\n",
       "      <th>work_accident</th>\n",
       "      <th>left</th>\n",
       "      <th>promotion_last_5years</th>\n",
       "      <th>sales</th>\n",
       "      <th>salary</th>\n",
       "    </tr>\n",
       "  </thead>\n",
       "  <tbody>\n",
       "    <tr>\n",
       "      <th>0</th>\n",
       "      <td>0.38</td>\n",
       "      <td>0.53</td>\n",
       "      <td>2</td>\n",
       "      <td>157</td>\n",
       "      <td>3</td>\n",
       "      <td>0</td>\n",
       "      <td>1</td>\n",
       "      <td>0</td>\n",
       "      <td>sales</td>\n",
       "      <td>low</td>\n",
       "    </tr>\n",
       "    <tr>\n",
       "      <th>1</th>\n",
       "      <td>0.80</td>\n",
       "      <td>0.86</td>\n",
       "      <td>5</td>\n",
       "      <td>262</td>\n",
       "      <td>6</td>\n",
       "      <td>0</td>\n",
       "      <td>1</td>\n",
       "      <td>0</td>\n",
       "      <td>sales</td>\n",
       "      <td>medium</td>\n",
       "    </tr>\n",
       "    <tr>\n",
       "      <th>2</th>\n",
       "      <td>0.11</td>\n",
       "      <td>0.88</td>\n",
       "      <td>7</td>\n",
       "      <td>272</td>\n",
       "      <td>4</td>\n",
       "      <td>0</td>\n",
       "      <td>1</td>\n",
       "      <td>0</td>\n",
       "      <td>sales</td>\n",
       "      <td>medium</td>\n",
       "    </tr>\n",
       "    <tr>\n",
       "      <th>3</th>\n",
       "      <td>0.72</td>\n",
       "      <td>0.87</td>\n",
       "      <td>5</td>\n",
       "      <td>223</td>\n",
       "      <td>5</td>\n",
       "      <td>0</td>\n",
       "      <td>1</td>\n",
       "      <td>0</td>\n",
       "      <td>sales</td>\n",
       "      <td>low</td>\n",
       "    </tr>\n",
       "    <tr>\n",
       "      <th>4</th>\n",
       "      <td>0.37</td>\n",
       "      <td>0.52</td>\n",
       "      <td>2</td>\n",
       "      <td>159</td>\n",
       "      <td>3</td>\n",
       "      <td>0</td>\n",
       "      <td>1</td>\n",
       "      <td>0</td>\n",
       "      <td>sales</td>\n",
       "      <td>low</td>\n",
       "    </tr>\n",
       "  </tbody>\n",
       "</table>\n",
       "</div>"
      ],
      "text/plain": [
       "   satisfaction_level  last_evaluation  number_project  average_monthly_hours  \\\n",
       "0                0.38             0.53               2                    157   \n",
       "1                0.80             0.86               5                    262   \n",
       "2                0.11             0.88               7                    272   \n",
       "3                0.72             0.87               5                    223   \n",
       "4                0.37             0.52               2                    159   \n",
       "\n",
       "   time_spend_company  work_accident  left  promotion_last_5years  sales  \\\n",
       "0                   3              0     1                      0  sales   \n",
       "1                   6              0     1                      0  sales   \n",
       "2                   4              0     1                      0  sales   \n",
       "3                   5              0     1                      0  sales   \n",
       "4                   3              0     1                      0  sales   \n",
       "\n",
       "   salary  \n",
       "0     low  \n",
       "1  medium  \n",
       "2  medium  \n",
       "3     low  \n",
       "4     low  "
      ]
     },
     "execution_count": 125,
     "metadata": {},
     "output_type": "execute_result"
    }
   ],
   "source": [
    "HR_data.head()"
   ]
  },
  {
   "cell_type": "code",
   "execution_count": 126,
   "metadata": {
    "collapsed": false
   },
   "outputs": [
    {
     "data": {
      "text/plain": [
       "work_accident            0.144610\n",
       "promotion_last_5years    0.021268\n",
       "left                     0.238083\n",
       "dtype: float64"
      ]
     },
     "execution_count": 126,
     "metadata": {},
     "output_type": "execute_result"
    }
   ],
   "source": [
    "# Q1: Which variables in the HR data can be said to be Bernoulli random variables?\n",
    "\n",
    "# Bernoulli variables: work accident, left, promotion last 5 years\n",
    "\n",
    "# Q2: For the k variables you identified in part 1, compute the probabilities  p , of each \n",
    "# having a positive  (x=1)(x=1)  result.\n",
    "\n",
    "p = HR_data[['work_accident', 'promotion_last_5years', 'left']].mean()\n",
    "p"
   ]
  },
  {
   "cell_type": "code",
   "execution_count": 127,
   "metadata": {
    "collapsed": false
   },
   "outputs": [
    {
     "data": {
      "text/plain": [
       "work_accident            0.123698\n",
       "promotion_last_5years    0.020816\n",
       "left                     0.181399\n",
       "dtype: float64"
      ]
     },
     "execution_count": 127,
     "metadata": {},
     "output_type": "execute_result"
    }
   ],
   "source": [
    "# Q3: Compute the variance of each of the variables in part 2 using  p  as described above.\n",
    "var = p * (1-p)\n",
    "var"
   ]
  },
  {
   "cell_type": "code",
   "execution_count": 128,
   "metadata": {
    "collapsed": false
   },
   "outputs": [
    {
     "data": {
      "text/plain": [
       "{'left': 0.0030366192962612546,\n",
       " 'promotion_last_5years': 0.0,\n",
       " 'work_accident': 3.3494533716445012e-183}"
      ]
     },
     "execution_count": 128,
     "metadata": {},
     "output_type": "execute_result"
    }
   ],
   "source": [
    "# Q4: For each of the k variables, compute the probability of randomly selecting exactly 3500\n",
    "# employees with a positive result. Comment on your answer.\n",
    "from scipy.stats import binom\n",
    "N = len(HR_data)\n",
    "b = {}\n",
    "for x in p.to_dict():\n",
    "    myBinom = binom(n=N, p=p[x]) # create a binomial distribution with N trials \n",
    "    b[x] = myBinom.pmf(3500)\n",
    "b"
   ]
  },
  {
   "cell_type": "code",
   "execution_count": 129,
   "metadata": {
    "collapsed": false
   },
   "outputs": [
    {
     "data": {
      "text/plain": [
       "{'left': 0.088031181043273107,\n",
       " 'promotion_last_5years': 0.99999999999999989,\n",
       " 'work_accident': 0.99999999999999989}"
      ]
     },
     "execution_count": 129,
     "metadata": {},
     "output_type": "execute_result"
    }
   ],
   "source": [
    "# Q5: For each of the k variables, compute the probability of randomly selecting 3500 or less with a positive \n",
    "# result. Comment on your answer.\n",
    "\n",
    "for x in p.to_dict():\n",
    "    myBinom = binom(n=N, p=p[x])\n",
    "    b[x] = myBinom.cdf(3500)\n",
    "b"
   ]
  },
  {
   "cell_type": "code",
   "execution_count": 130,
   "metadata": {
    "collapsed": true
   },
   "outputs": [],
   "source": [
    "# Q6: Now plot both the PMF and CDF as a function of the number of drawn samples for each of the k variables. Comment on\n",
    "# your results.\n",
    "\n",
    "import matplotlib.pyplot as plt\n",
    "\n",
    "b_pmf = {}\n",
    "\n",
    "for x in p.to_dict():\n",
    "    y = []\n",
    "    myBinom = binom(n=N, p=p[x])\n",
    "\n",
    "    for k in range(N):\n",
    "        y.append(myBinom.pmf(k))\n",
    "    b_pmf[x] = y"
   ]
  },
  {
   "cell_type": "code",
   "execution_count": 131,
   "metadata": {
    "collapsed": false
   },
   "outputs": [
    {
     "data": {
      "text/plain": [
       "<matplotlib.text.Text at 0x113f22048>"
      ]
     },
     "execution_count": 131,
     "metadata": {},
     "output_type": "execute_result"
    },
    {
     "data": {
      "image/png": "[encoded data removed]",
      "text/plain": [
       "<matplotlib.figure.Figure at 0x10f267588>"
      ]
     },
     "metadata": {},
     "output_type": "display_data"
    }
   ],
   "source": [
    "% matplotlib inline\n",
    "plt.plot(b_pmf['work_accident'], 'r', label='work_accident')\n",
    "plt.plot(b_pmf['left'], 'g', label='left')\n",
    "plt.plot(b_pmf['promotion_last_5years'], 'b', label='promotion_last_5years')\n",
    "plt.ylim(ymin=0)\n",
    "plt.legend()\n",
    "plt.title('PMF')"
   ]
  },
  {
   "cell_type": "code",
   "execution_count": 132,
   "metadata": {
    "collapsed": true
   },
   "outputs": [],
   "source": [
    "b_cdf = {}\n",
    "\n",
    "for x in p.to_dict():\n",
    "    y = []\n",
    "    myBinom = binom(n=N, p=p[x])\n",
    "\n",
    "    for k in range(N):\n",
    "        y.append(myBinom.cdf(k))\n",
    "    b_cdf[x] = y"
   ]
  },
  {
   "cell_type": "code",
   "execution_count": 133,
   "metadata": {
    "collapsed": false
   },
   "outputs": [
    {
     "data": {
      "text/plain": [
       "<matplotlib.text.Text at 0x1133bf9e8>"
      ]
     },
     "execution_count": 133,
     "metadata": {},
     "output_type": "execute_result"
    },
    {
     "data": {
      "image/png": "[encoded data removed]",
      "text/plain": [
       "<matplotlib.figure.Figure at 0x113fe5d68>"
      ]
     },
     "metadata": {},
     "output_type": "display_data"
    }
   ],
   "source": [
    "plt.plot(b_cdf['work_accident'], 'r', label='work_accident')\n",
    "plt.plot(b_cdf['left'], 'g', label='left')\n",
    "plt.plot(b_cdf['promotion_last_5years'], 'b', label='promotion_last_5years')\n",
    "plt.ylim(ymax=1.1, ymin=0)\n",
    "plt.legend()\n",
    "plt.title('CDF')"
   ]
  },
  {
   "cell_type": "markdown",
   "metadata": {},
   "source": [
    "### The Normal Distribution\n",
    "The Normal distribution (or sometimes called the Bell Curve or Guassian) is by far the most prevalent and useful distribution in any field that utilizes statistical techniques.  In fact, it can be shown that the means of random variables sampled from **any** distribution eventually form a normal given a sufficiently large sample size.\n",
    "\n",
    "A normal distribution is characterized by the PDF given by\n",
    "$$p(x|\\mu,\\sigma) = \\frac{1}{\\sqrt{(2\\pi\\sigma^2)}}e^{-\\frac{(x - \\mu)^2}{2\\sigma^2}} $$"
   ]
  },
  {
   "cell_type": "markdown",
   "metadata": {},
   "source": [
    "where $\\mu$ is the mean and $\\sigma^2$ is the variance, thus the distribution is characterized by mean and variance alone.  In this exercise, you'll examine variables in the HR dataset and construct normals approximating them.\n",
    "\n",
    "Using the HR data, answer the following\n",
    "\n",
    "1. Which variables may be approximately normal?\n",
    "1. For the variables in part 1, plot histograms.\n",
    "1. Compute the mean and variance for each of the variables used in parts 1 and 2.\n",
    "1. Using the mean and variance in part 3, construct normal distributions for each and overlay them on top of the histograms you made in part 1.  Are they well approximated by normals?"
   ]
  },
  {
   "cell_type": "code",
   "execution_count": 134,
   "metadata": {
    "collapsed": false
   },
   "outputs": [],
   "source": [
    "# Q1: Which variables may be approximately normal?\n",
    "# avg monthly hours, time spent at company, satisfaction level, last eval, number of projects - only use continuous \n",
    "# variables"
   ]
  },
  {
   "cell_type": "code",
   "execution_count": 135,
   "metadata": {
    "collapsed": false
   },
   "outputs": [],
   "source": [
    "# Q2: For the variables in part 1, plot histograms."
   ]
  },
  {
   "cell_type": "code",
   "execution_count": 136,
   "metadata": {
    "collapsed": false
   },
   "outputs": [
    {
     "data": {
      "image/png": "[encoded data removed]",
      "text/plain": [
       "<matplotlib.figure.Figure at 0x10fa6a940>"
      ]
     },
     "metadata": {},
     "output_type": "display_data"
    }
   ],
   "source": [
    "f, axarr = plt.subplots(2, 2)\n",
    "axarr[0,0].hist(HR_data.satisfaction_level, normed=True, bins='auto', color='b', edgecolor='k')\n",
    "axarr[0,1].hist(HR_data.last_evaluation, normed=True, bins='auto', color='b', edgecolor='k')\n",
    "axarr[1,0].hist(HR_data.average_monthly_hours, normed=True, bins='auto', color='b', edgecolor='k')\n",
    "plt.show()"
   ]
  },
  {
   "cell_type": "code",
   "execution_count": 137,
   "metadata": {
    "collapsed": false
   },
   "outputs": [],
   "source": [
    "# Compute the mean and variance for each of the variables used in parts 1 and 2.\n",
    "\n",
    "means = HR_data[['satisfaction_level', 'last_evaluation', 'average_monthly_hours']].mean()\n",
    "var = HR_data[['satisfaction_level', 'last_evaluation', 'average_monthly_hours']].var()"
   ]
  },
  {
   "cell_type": "code",
   "execution_count": 138,
   "metadata": {
    "collapsed": false
   },
   "outputs": [
    {
     "data": {
      "text/plain": [
       "satisfaction_level         0.612834\n",
       "last_evaluation            0.716102\n",
       "average_monthly_hours    201.050337\n",
       "dtype: float64"
      ]
     },
     "execution_count": 138,
     "metadata": {},
     "output_type": "execute_result"
    }
   ],
   "source": [
    "means"
   ]
  },
  {
   "cell_type": "code",
   "execution_count": 139,
   "metadata": {
    "collapsed": false
   },
   "outputs": [
    {
     "data": {
      "text/plain": [
       "satisfaction_level          0.061817\n",
       "last_evaluation             0.029299\n",
       "average_monthly_hours    2494.313175\n",
       "dtype: float64"
      ]
     },
     "execution_count": 139,
     "metadata": {},
     "output_type": "execute_result"
    }
   ],
   "source": [
    "var"
   ]
  },
  {
   "cell_type": "code",
   "execution_count": 140,
   "metadata": {
    "collapsed": false
   },
   "outputs": [],
   "source": [
    "norm.ppf?"
   ]
  },
  {
   "cell_type": "code",
   "execution_count": 141,
   "metadata": {
    "collapsed": false
   },
   "outputs": [],
   "source": [
    "# Q4: Using the mean and variance in part 3, construct normal distributions for each and overlay them on top of the\n",
    "# histograms you made in part 1. Are they well approximated by normals?\n",
    "\n",
    "from scipy.stats import norm\n",
    "\n",
    "myData = HR_data[['satisfaction_level', 'last_evaluation', 'average_monthly_hours']]\n",
    "stds = myData.std()\n",
    "means = myData.mean()\n",
    "\n",
    "normals = {}\n",
    "x = {}\n",
    "\n",
    "for col in myData:\n",
    "    normals[col] = norm(loc = means[col], scale=stds[col])\n",
    "    x[col] = np.linspace(normals[col].ppf(0.01), normals[col].ppf(0.99), 100)"
   ]
  },
  {
   "cell_type": "code",
   "execution_count": 142,
   "metadata": {
    "collapsed": false
   },
   "outputs": [
    {
     "data": {
      "image/png": "[encoded data removed]",
      "text/plain": [
       "<matplotlib.figure.Figure at 0x10fc92400>"
      ]
     },
     "metadata": {},
     "output_type": "display_data"
    }
   ],
   "source": [
    "f, axarr = plt.subplots(2, 2)\n",
    "\n",
    "axarr[0,0].hist(HR_data.satisfaction_level, normed=True, bins='auto', color='b', edgecolor='k')\n",
    "axarr[0,0].plot(x['satisfaction_level'], normals['satisfaction_level'].pdf(x['satisfaction_level']), color='r')\n",
    "\n",
    "axarr[0,1].hist(HR_data.last_evaluation, normed=True, bins='auto', color='b', edgecolor='k')\n",
    "axarr[0,1].plot(x['last_evaluation'], normals['last_evaluation'].pdf(x['last_evaluation']), color='r')\n",
    "\n",
    "\n",
    "axarr[1,0].hist(HR_data.average_monthly_hours, normed=True, bins='auto', color='b', edgecolor='k')\n",
    "axarr[1,0].plot(x['average_monthly_hours'], normals['average_monthly_hours'].pdf(x['average_monthly_hours']), color='r')\n",
    "\n",
    "plt.show()"
   ]
  },
  {
   "cell_type": "code",
   "execution_count": 143,
   "metadata": {
    "collapsed": true
   },
   "outputs": [],
   "source": [
    "# None of the distributions are particularly well suited by the normal distribution, however,\n",
    "# transformations could probably help. "
   ]
  },
  {
   "cell_type": "markdown",
   "metadata": {},
   "source": [
    "### The Poisson Distribution\n",
    "The Poisson distribution is very versatile but is typically used to model counts, such as, the amount of clicks per advertisement and arriving flights per unit time.  It has a PDF given by\n",
    "$$ P(X = x, \\lambda) = \\frac{\\lambda^x e^{-\\lambda}}{x!} $$\n",
    "where the mean and variance are both equal to $\\lambda$\n",
    "\n",
    "Using the HR data, answer the following.\n",
    "\n",
    "1. What variables would be good candidates for modeling with a Poisson distribution?\n",
    "1. For each variable in part 1, divide each by salary and fit a Poisson distribution to each.\n",
    "1. Compute the probability of obtaining at least the mean of all salary levels in each category by using the Poisson distributions you constructed in part 2.  Comment on your results."
   ]
  },
  {
   "cell_type": "code",
   "execution_count": 144,
   "metadata": {
    "collapsed": false
   },
   "outputs": [
    {
     "data": {
      "text/html": [
       "<div>\n",
       "<table border=\"1\" class=\"dataframe\">\n",
       "  <thead>\n",
       "    <tr style=\"text-align: right;\">\n",
       "      <th></th>\n",
       "      <th>satisfaction_level</th>\n",
       "      <th>last_evaluation</th>\n",
       "      <th>number_project</th>\n",
       "      <th>average_monthly_hours</th>\n",
       "      <th>time_spend_company</th>\n",
       "      <th>work_accident</th>\n",
       "      <th>left</th>\n",
       "      <th>promotion_last_5years</th>\n",
       "      <th>sales</th>\n",
       "      <th>salary</th>\n",
       "    </tr>\n",
       "  </thead>\n",
       "  <tbody>\n",
       "    <tr>\n",
       "      <th>0</th>\n",
       "      <td>0.38</td>\n",
       "      <td>0.53</td>\n",
       "      <td>2</td>\n",
       "      <td>157</td>\n",
       "      <td>3</td>\n",
       "      <td>0</td>\n",
       "      <td>1</td>\n",
       "      <td>0</td>\n",
       "      <td>sales</td>\n",
       "      <td>low</td>\n",
       "    </tr>\n",
       "    <tr>\n",
       "      <th>1</th>\n",
       "      <td>0.80</td>\n",
       "      <td>0.86</td>\n",
       "      <td>5</td>\n",
       "      <td>262</td>\n",
       "      <td>6</td>\n",
       "      <td>0</td>\n",
       "      <td>1</td>\n",
       "      <td>0</td>\n",
       "      <td>sales</td>\n",
       "      <td>medium</td>\n",
       "    </tr>\n",
       "    <tr>\n",
       "      <th>2</th>\n",
       "      <td>0.11</td>\n",
       "      <td>0.88</td>\n",
       "      <td>7</td>\n",
       "      <td>272</td>\n",
       "      <td>4</td>\n",
       "      <td>0</td>\n",
       "      <td>1</td>\n",
       "      <td>0</td>\n",
       "      <td>sales</td>\n",
       "      <td>medium</td>\n",
       "    </tr>\n",
       "    <tr>\n",
       "      <th>3</th>\n",
       "      <td>0.72</td>\n",
       "      <td>0.87</td>\n",
       "      <td>5</td>\n",
       "      <td>223</td>\n",
       "      <td>5</td>\n",
       "      <td>0</td>\n",
       "      <td>1</td>\n",
       "      <td>0</td>\n",
       "      <td>sales</td>\n",
       "      <td>low</td>\n",
       "    </tr>\n",
       "    <tr>\n",
       "      <th>4</th>\n",
       "      <td>0.37</td>\n",
       "      <td>0.52</td>\n",
       "      <td>2</td>\n",
       "      <td>159</td>\n",
       "      <td>3</td>\n",
       "      <td>0</td>\n",
       "      <td>1</td>\n",
       "      <td>0</td>\n",
       "      <td>sales</td>\n",
       "      <td>low</td>\n",
       "    </tr>\n",
       "  </tbody>\n",
       "</table>\n",
       "</div>"
      ],
      "text/plain": [
       "   satisfaction_level  last_evaluation  number_project  average_monthly_hours  \\\n",
       "0                0.38             0.53               2                    157   \n",
       "1                0.80             0.86               5                    262   \n",
       "2                0.11             0.88               7                    272   \n",
       "3                0.72             0.87               5                    223   \n",
       "4                0.37             0.52               2                    159   \n",
       "\n",
       "   time_spend_company  work_accident  left  promotion_last_5years  sales  \\\n",
       "0                   3              0     1                      0  sales   \n",
       "1                   6              0     1                      0  sales   \n",
       "2                   4              0     1                      0  sales   \n",
       "3                   5              0     1                      0  sales   \n",
       "4                   3              0     1                      0  sales   \n",
       "\n",
       "   salary  \n",
       "0     low  \n",
       "1  medium  \n",
       "2  medium  \n",
       "3     low  \n",
       "4     low  "
      ]
     },
     "execution_count": 144,
     "metadata": {},
     "output_type": "execute_result"
    }
   ],
   "source": [
    "HR_data.head()"
   ]
  },
  {
   "cell_type": "code",
   "execution_count": 145,
   "metadata": {
    "collapsed": true
   },
   "outputs": [],
   "source": [
    "# Q1: What variables would be good candidates for modeling with a Poisson distribution?\n",
    "# No. of projects and time spend at company"
   ]
  },
  {
   "cell_type": "code",
   "execution_count": 146,
   "metadata": {
    "collapsed": false
   },
   "outputs": [
    {
     "name": "stdout",
     "output_type": "stream",
     "text": [
      "number_project low 3.799890650628759 3.79989065063\n",
      "number_project medium 3.8135277691591685 3.81352776916\n",
      "number_project high 3.767178658043654 3.76717865804\n",
      "time_spend_company low 3.4382176052487696 3.43821760525\n",
      "time_spend_company medium 3.52901023890785 3.52901023891\n",
      "time_spend_company high 3.692805173807599 3.69280517381\n"
     ]
    }
   ],
   "source": [
    "# Q2: For each variable in part 1, divide each by salary and fit a Poisson distribution to each.\n",
    "\n",
    "from scipy.stats import poisson\n",
    "\n",
    "data = HR_data[['number_project', 'time_spend_company', 'salary']]\n",
    "\n",
    "sal_cats = HR_data.salary.unique()\n",
    "\n",
    "data_sub = {}\n",
    "\n",
    "for col in ('number_project', 'time_spend_company'):\n",
    "    cat_sub = {}\n",
    "    for cat in sal_cats:\n",
    "        l = data[col][data.salary == cat].mean()\n",
    "        cat_sub[cat] = poisson(mu=l)\n",
    "        print(col, cat, l, cat_sub[cat].mean())\n",
    "    data_sub[col] = cat_sub"
   ]
  },
  {
   "cell_type": "code",
   "execution_count": 147,
   "metadata": {
    "collapsed": true
   },
   "outputs": [],
   "source": [
    "# Q3: Compute the probability of obtaining at least the mean of all salary levels in each \n",
    "# category by using the Poisson distributions you constructed in part 2. Comment on your \n",
    "# results.\n",
    "\n",
    "probs = {}\n",
    "\n",
    "for col in ('number_project', 'time_spend_company'):\n",
    "    mean_temp = data[col].mean()\n",
    "    probs_cat = {}\n",
    "    for cat in sal_cats:\n",
    "        probs_cat[cat] = data_sub[col][cat].cdf(mean_temp)\n",
    "    probs[col] = probs_cat"
   ]
  },
  {
   "cell_type": "code",
   "execution_count": 148,
   "metadata": {
    "collapsed": false
   },
   "outputs": [
    {
     "data": {
      "text/plain": [
       "{'number_project': {'high': 0.48022270108890308,\n",
       "  'low': 0.47350721510446292,\n",
       "  'medium': 0.47072117653923973},\n",
       " 'time_spend_company': {'high': 0.4956559688831893,\n",
       "  'low': 0.55002130853488929,\n",
       "  'medium': 0.53038584716408865}}"
      ]
     },
     "execution_count": 148,
     "metadata": {},
     "output_type": "execute_result"
    }
   ],
   "source": [
    "probs"
   ]
  },
  {
   "cell_type": "markdown",
   "metadata": {},
   "source": [
    "### The Central Limit Theorem\n",
    "The Central Limit Theorem is perhaps one of the most remarkable results in statistics and mathematics in general.  In short, it says that the distribution of means of independent random variables, sampled from **any** distribution, tends to approach a normal distribution as the sample size increases.\n",
    "\n",
    "An example of this would be taking a pair of dice, rolling them, and recording the mean of each result.  The Central Limit Theorem states, that after enough rolls, the distribution of the means will be approximately normal.  Stated formally, the result is\n",
    "    $$ \\bar{X_n} \\approx N(\\mu, \\sigma^2/n) = \\frac{\\bar{X_n} - \\mu}{\\sigma \\sqrt{n}}$$\n",
    "In this exercise, you'll conduct simulation experiments to explore this idea.\n",
    "\n",
    "Using the HR data, answer the following.\n",
    "1. Choose two variables which may be good candidates to test this theorem.\n",
    "1. Using the variables chosen in part 1, randomly select a set of `n = 10` samples and take the mean.  Repeat this 1000 times for each variable.\n",
    "1. Plot a histogram for each variable used in part 2.  Comment on your results.\n",
    "1. Repeat parts 2-3 for `n = 100`, `n = 500`, and `n = 1000`.  Comment on your results.\n",
    "1. Overlay a normal curve on your `n = 1000` plots, using the mean and variance computed from the data.  Comment on your results."
   ]
  },
  {
   "cell_type": "code",
   "execution_count": 149,
   "metadata": {
    "collapsed": false
   },
   "outputs": [
    {
     "data": {
      "text/html": [
       "<div>\n",
       "<table border=\"1\" class=\"dataframe\">\n",
       "  <thead>\n",
       "    <tr style=\"text-align: right;\">\n",
       "      <th></th>\n",
       "      <th>satisfaction_level</th>\n",
       "      <th>last_evaluation</th>\n",
       "      <th>number_project</th>\n",
       "      <th>average_monthly_hours</th>\n",
       "      <th>time_spend_company</th>\n",
       "      <th>work_accident</th>\n",
       "      <th>left</th>\n",
       "      <th>promotion_last_5years</th>\n",
       "      <th>sales</th>\n",
       "      <th>salary</th>\n",
       "    </tr>\n",
       "  </thead>\n",
       "  <tbody>\n",
       "    <tr>\n",
       "      <th>0</th>\n",
       "      <td>0.38</td>\n",
       "      <td>0.53</td>\n",
       "      <td>2</td>\n",
       "      <td>157</td>\n",
       "      <td>3</td>\n",
       "      <td>0</td>\n",
       "      <td>1</td>\n",
       "      <td>0</td>\n",
       "      <td>sales</td>\n",
       "      <td>low</td>\n",
       "    </tr>\n",
       "    <tr>\n",
       "      <th>1</th>\n",
       "      <td>0.80</td>\n",
       "      <td>0.86</td>\n",
       "      <td>5</td>\n",
       "      <td>262</td>\n",
       "      <td>6</td>\n",
       "      <td>0</td>\n",
       "      <td>1</td>\n",
       "      <td>0</td>\n",
       "      <td>sales</td>\n",
       "      <td>medium</td>\n",
       "    </tr>\n",
       "    <tr>\n",
       "      <th>2</th>\n",
       "      <td>0.11</td>\n",
       "      <td>0.88</td>\n",
       "      <td>7</td>\n",
       "      <td>272</td>\n",
       "      <td>4</td>\n",
       "      <td>0</td>\n",
       "      <td>1</td>\n",
       "      <td>0</td>\n",
       "      <td>sales</td>\n",
       "      <td>medium</td>\n",
       "    </tr>\n",
       "    <tr>\n",
       "      <th>3</th>\n",
       "      <td>0.72</td>\n",
       "      <td>0.87</td>\n",
       "      <td>5</td>\n",
       "      <td>223</td>\n",
       "      <td>5</td>\n",
       "      <td>0</td>\n",
       "      <td>1</td>\n",
       "      <td>0</td>\n",
       "      <td>sales</td>\n",
       "      <td>low</td>\n",
       "    </tr>\n",
       "    <tr>\n",
       "      <th>4</th>\n",
       "      <td>0.37</td>\n",
       "      <td>0.52</td>\n",
       "      <td>2</td>\n",
       "      <td>159</td>\n",
       "      <td>3</td>\n",
       "      <td>0</td>\n",
       "      <td>1</td>\n",
       "      <td>0</td>\n",
       "      <td>sales</td>\n",
       "      <td>low</td>\n",
       "    </tr>\n",
       "  </tbody>\n",
       "</table>\n",
       "</div>"
      ],
      "text/plain": [
       "   satisfaction_level  last_evaluation  number_project  average_monthly_hours  \\\n",
       "0                0.38             0.53               2                    157   \n",
       "1                0.80             0.86               5                    262   \n",
       "2                0.11             0.88               7                    272   \n",
       "3                0.72             0.87               5                    223   \n",
       "4                0.37             0.52               2                    159   \n",
       "\n",
       "   time_spend_company  work_accident  left  promotion_last_5years  sales  \\\n",
       "0                   3              0     1                      0  sales   \n",
       "1                   6              0     1                      0  sales   \n",
       "2                   4              0     1                      0  sales   \n",
       "3                   5              0     1                      0  sales   \n",
       "4                   3              0     1                      0  sales   \n",
       "\n",
       "   salary  \n",
       "0     low  \n",
       "1  medium  \n",
       "2  medium  \n",
       "3     low  \n",
       "4     low  "
      ]
     },
     "execution_count": 149,
     "metadata": {},
     "output_type": "execute_result"
    }
   ],
   "source": [
    "# Q1: Choose two variables which may be good candidates to test this theorem.\n",
    "# average monthly hours and satisfaction level\n",
    "HR_data.head()"
   ]
  },
  {
   "cell_type": "code",
   "execution_count": 150,
   "metadata": {
    "collapsed": false
   },
   "outputs": [],
   "source": [
    "# Q2: Using the variables chosen in part 1, randomly select a set of n = 10 samples and take \n",
    "# the mean. Repeat this 1000 times for each variable.\n",
    "# Q3: Plot a histogram for each variable used in part 2. Comment on your results.\n",
    "\n",
    "avg_mo_hr = [HR_data['average_monthly_hours'].sample(n=10).mean() for i in range(1000)]"
   ]
  },
  {
   "cell_type": "code",
   "execution_count": 151,
   "metadata": {
    "collapsed": false
   },
   "outputs": [
    {
     "data": {
      "image/png": "[encoded data removed]",
      "text/plain": [
       "<matplotlib.figure.Figure at 0x10f67e240>"
      ]
     },
     "metadata": {},
     "output_type": "display_data"
    }
   ],
   "source": [
    "plt.hist(avg_mo_hr, bins=20, edgecolor='k', color='b')\n",
    "plt.title('Average Monthly Hours')\n",
    "plt.xlabel('sample means')\n",
    "plt.ylabel('frequency')\n",
    "plt.show()"
   ]
  },
  {
   "cell_type": "code",
   "execution_count": 152,
   "metadata": {
    "collapsed": false
   },
   "outputs": [
    {
     "data": {
      "image/png": "[encoded data removed]",
      "text/plain": [
       "<matplotlib.figure.Figure at 0x114f699e8>"
      ]
     },
     "metadata": {},
     "output_type": "display_data"
    }
   ],
   "source": [
    "samples = []\n",
    "for i in range(1000):\n",
    "    sample_mean = HR_data['satisfaction_level'].sample(n=10).mean()\n",
    "    samples.append(sample_mean)\n",
    "    \n",
    "plt.hist(samples, bins=20, edgecolor='k', color='b')\n",
    "plt.title('Satisfaction Level')\n",
    "plt.xlabel('sample mean')\n",
    "plt.ylabel('frequency')\n",
    "plt.show()"
   ]
  },
  {
   "cell_type": "code",
   "execution_count": 153,
   "metadata": {
    "collapsed": false
   },
   "outputs": [
    {
     "data": {
      "image/png": "[encoded data removed]",
      "text/plain": [
       "<matplotlib.figure.Figure at 0x113f164e0>"
      ]
     },
     "metadata": {},
     "output_type": "display_data"
    }
   ],
   "source": [
    "# Q4: Repeat parts 2-3 for n = 100, n = 500, and n = 1000. Comment on your results.\n",
    "\n",
    "data = HR_data[['average_monthly_hours', 'satisfaction_level']]\n",
    "\n",
    "# n = 100\n",
    "means_100 = {}\n",
    "for col in data:\n",
    "    means_100[col] = [data[col].sample(100).mean() for i in range(1000)]\n",
    "f, axarr = plt.subplots(2)\n",
    "axarr[0].hist(means_100['average_monthly_hours'], bins='auto', edgecolor='k', color='b')\n",
    "axarr[1].hist(means_100['satisfaction_level'], bins='auto', edgecolor='k', color='b')\n",
    "plt.suptitle('N=100')\n",
    "plt.show()"
   ]
  },
  {
   "cell_type": "code",
   "execution_count": 154,
   "metadata": {
    "collapsed": false
   },
   "outputs": [
    {
     "data": {
      "image/png": "[encoded data removed]",
      "text/plain": [
       "<matplotlib.figure.Figure at 0x113b77f98>"
      ]
     },
     "metadata": {},
     "output_type": "display_data"
    }
   ],
   "source": [
    "# n = 500\n",
    "means = {}\n",
    "for col in data:\n",
    "    means[col] = [data[col].sample(500).mean() for i in range(1000)]\n",
    "\n",
    "f, axarr = plt.subplots(2)\n",
    "axarr[0].hist(means['average_monthly_hours'], bins='auto', edgecolor='k', color='b')\n",
    "axarr[1].hist(means['satisfaction_level'], bins='auto', edgecolor='k', color='b')\n",
    "plt.suptitle('N=500')\n",
    "plt.show()"
   ]
  },
  {
   "cell_type": "code",
   "execution_count": 155,
   "metadata": {
    "collapsed": false
   },
   "outputs": [
    {
     "data": {
      "image/png": "[encoded data removed]",
      "text/plain": [
       "<matplotlib.figure.Figure at 0x113ffd668>"
      ]
     },
     "metadata": {},
     "output_type": "display_data"
    }
   ],
   "source": [
    "# n = 1000\n",
    "means = {}\n",
    "for col in data:\n",
    "    means[col] = [data[col].sample(1000).mean() for i in range(1000)]\n",
    "\n",
    "f, axarr = plt.subplots(2)\n",
    "axarr[0].hist(means['average_monthly_hours'], bins='auto', edgecolor='k', color='b')\n",
    "axarr[1].hist(means['satisfaction_level'], bins='auto', edgecolor='k', color='b')\n",
    "plt.suptitle('N=1000')\n",
    "plt.show()"
   ]
  },
  {
   "cell_type": "code",
   "execution_count": 156,
   "metadata": {
    "collapsed": false
   },
   "outputs": [],
   "source": [
    "# Q5: Overlay a normal curve on your n = 1000 plots, using the mean and variance computed from\n",
    "# the data. Comment on your results."
   ]
  },
  {
   "cell_type": "code",
   "execution_count": 157,
   "metadata": {
    "collapsed": true
   },
   "outputs": [],
   "source": [
    "# Solution from the solutions video\n",
    "\n",
    "from scipy.stats import norm\n",
    "\n",
    "stds = data.std()\n",
    "means_real = data.mean()\n",
    "\n",
    "normals = {}\n",
    "x = {}\n",
    "\n",
    "for col in data:\n",
    "    normals[col] = norm(loc=means_real[col], scale=stds[col] / np.sqrt(1000))\n",
    "    x[col] = np.linspace(normals[col].ppf(0.01), normals[col].ppf(0.99), 100)\n",
    "    \n",
    "# divide std deviation by sqrt(1000) because you want the std deviation of the sample \n",
    "# distribution for the means which were calculated from a 1000 estimates of the mean - since \n",
    "# there are many samples, the stadard deviation of the sample distribution will be smaller\n",
    "    \n",
    "w = [1/1000 for i in range(1000)]"
   ]
  },
  {
   "cell_type": "code",
   "execution_count": 158,
   "metadata": {
    "collapsed": false
   },
   "outputs": [
    {
     "data": {
      "image/png": "[encoded data removed]",
      "text/plain": [
       "<matplotlib.figure.Figure at 0x114495e10>"
      ]
     },
     "metadata": {},
     "output_type": "display_data"
    }
   ],
   "source": [
    "f, axarr = plt.subplots(2)\n",
    "axarr[0].hist(means['average_monthly_hours'], bins='auto', edgecolor='k', color='b', normed=True)\n",
    "axarr[0].plot(x['average_monthly_hours'], normals['average_monthly_hours'].pdf(x['average_monthly_hours']), color='r')\n",
    "\n",
    "axarr[1].hist(means['satisfaction_level'], bins='auto', edgecolor='k', color='b', normed=True)\n",
    "axarr[1].plot(x['satisfaction_level'], normals['satisfaction_level'].pdf(x['satisfaction_level']), color='r')\n",
    "\n",
    "plt.suptitle('N=1000 with Normal Distribution')\n",
    "plt.show()"
   ]
  },
  {
   "cell_type": "markdown",
   "metadata": {},
   "source": [
    "\n",
    "## Hypothesis Testing\n",
    "Hypothesis testing is essentially using the data to answer questions of interest.  For example, does a new medication provide any benefit over placebo?  Or is a subset of the population disproportionately more susceptible to a particular disease?  Or is the difference between two companies profits' significant or due to chance alone?\n",
    "\n",
    "Before doing some hypothesis testing on the HR data, recall that hypothesis typically come in pairs of the form $H_0$, called the null hypothesis, versus $H_a$, called the alternative hypothesis.  The null hypothesis represents the \"default\" assumption -- that a medication has no effect for example, while the alternative hypothesis represents what we are looking to discover, in the medication case, whether it provides a significant benefit.  Another common case is testing the difference between two means.  Here, the null hypothesis is that there is no difference between two population means, whereas the alternative hypothesis is that there is a difference.  Stated more precisely\n",
    "$$H_0: \\mu_1 - \\mu_2 = 0$$\n",
    "$$H_a: \\mu_1 - \\mu_2 \\ne 0$$\n",
    "\n",
    "Hypotheses are usually tested by constructing a confidence interval around the test statistic and selecting a \"cut-off\" significance level denoted $\\alpha$.  A typical $\\alpha$ significance is 0.05.  If a test produces a P-value of $\\alpha$ or below, then the null hypothesis can be rejected, strengthening the case of the alternative hypothesis.  It is very important to remember that hypothesis testing can only tell you if your hypothesis is statistically significant -- this does **not** mean that your result may be scientifically significant which requires much more evidence.\n",
    "\n",
    "In this exercise, you'll explore the HR data more and test some hypotheses.\n",
    "\n",
    "Using the HR data, answer the following.\n",
    "\n",
    "1. Compute a confidence interval for satisfaction levels, at the 95% level, of employees who left the company and those who didn't.  Do this using both a t distribution and a normal.  Comment on your results.\n",
    "1. Use a t-test to test the hypothesis that employees who left the company, had lower satisfaction levels than those who did not.  If significant, are the means different?  Comment on your results.  (Hint: Do the two populations have equal variance?)\n",
    "1. Fit a normal curve to each group in part 2 and put them on the same plot next to each other.  Comment on your results.\n",
    "1. Test the hypothesis that the satisfaction level between each salary group, denoted by k, differs signicantly from the mean.  Namely\n",
    "    - $H_0: \\mu - \\mu_k = 0$\n",
    "    - $H_a: \\mu - \\mu_k \\ne 0$\n",
    "1. How would you interpret your results in part 5?\n",
    "1. Generate plots for part 5 as you did in part 3.  What conclusions can you draw from the plot?\n",
    "1. Repeat parts 4-6 on a hypothesis of your choosing.\n",
    "1. Recall that Power is the probability of failing to reject the null hypothesis when it is false (thus more power is good).  Compute the power for the hypothesis that the satisfaction level of high paid employees is different than that of medium paid employees using a t distribution."
   ]
  },
  {
   "cell_type": "code",
   "execution_count": 159,
   "metadata": {
    "collapsed": true
   },
   "outputs": [],
   "source": [
    "confidence_level = 0.95\n",
    "\n",
    "mean_left = left['satisfaction_level'].mean()\n",
    "mean_stayed = stayed['satisfaction_level'].mean()\n",
    "\n",
    "std_left = left['satisfaction_level'].std()\n",
    "std_stayed = stayed['satisfaction_level'].std()\n",
    "\n",
    "left_interval = stats.norm.interval(confidence_level, loc=mean_left, scale=std_left)\n",
    "stayed_interval = stats.norm.interval(confidence_level, loc=mean_stayed, scale=std_stayed)"
   ]
  },
  {
   "cell_type": "code",
   "execution_count": 160,
   "metadata": {
    "collapsed": false
   },
   "outputs": [
    {
     "name": "stdout",
     "output_type": "stream",
     "text": [
      "mean_left = 0.44009801176140917, 95% confidence interval = (-0.077202017484227059, 0.9573980410070454)\n"
     ]
    }
   ],
   "source": [
    "print('mean_left = {}, 95% confidence interval = {}'.format(mean_left, left_interval))"
   ]
  },
  {
   "cell_type": "code",
   "execution_count": 161,
   "metadata": {
    "collapsed": false
   },
   "outputs": [
    {
     "name": "stdout",
     "output_type": "stream",
     "text": [
      "mean_stayed = 0.666809590479516, 95% confidence interval = (0.2412940507124387, 1.0923251302465933)\n"
     ]
    }
   ],
   "source": [
    "print('mean_stayed = {}, 95% confidence interval = {}'.format(mean_stayed, stayed_interval))"
   ]
  },
  {
   "cell_type": "code",
   "execution_count": 162,
   "metadata": {
    "collapsed": false
   },
   "outputs": [
    {
     "data": {
      "text/plain": [
       "{'left': (0.43143847133170987, 0.44875755219111291),\n",
       " 'stayed': (0.66282873590383395, 0.6707904450552139)}"
      ]
     },
     "execution_count": 162,
     "metadata": {},
     "output_type": "execute_result"
    }
   ],
   "source": [
    "# Q1: Compute a confidence interval for satisfaction levels, at the 95% level, of employees who\n",
    "# left the company and those who didn't. Do this using both a t distribution and a normal.\n",
    "# Comment on your results.\n",
    "\n",
    "import statsmodels.stats.api as sm\n",
    "\n",
    "# t\n",
    "\n",
    "{'stayed': sm.DescrStatsW(HR_data[HR_data.left == 0].satisfaction_level).tconfint_mean(alpha=0.05),\n",
    "'left': sm.DescrStatsW(HR_data[HR_data.left == 1].satisfaction_level).tconfint_mean(alpha=0.05)}"
   ]
  },
  {
   "cell_type": "code",
   "execution_count": 163,
   "metadata": {
    "collapsed": false
   },
   "outputs": [
    {
     "data": {
      "text/plain": [
       "{'left': (0.43144140722566182, 0.44875461629716096),\n",
       " 'stayed': (0.66282915756106564, 0.67079002339798222)}"
      ]
     },
     "execution_count": 163,
     "metadata": {},
     "output_type": "execute_result"
    }
   ],
   "source": [
    "# normal\n",
    "\n",
    "{'stayed': sm.DescrStatsW(HR_data[HR_data.left == 0].satisfaction_level).zconfint_mean(alpha=0.05),\n",
    "'left': sm.DescrStatsW(HR_data[HR_data.left == 1].satisfaction_level).zconfint_mean(alpha=0.05)}"
   ]
  },
  {
   "cell_type": "code",
   "execution_count": 164,
   "metadata": {
    "collapsed": true
   },
   "outputs": [],
   "source": [
    "# Employees who left the companies have lower satisfaction levels than employees who stayed"
   ]
  },
  {
   "cell_type": "code",
   "execution_count": 165,
   "metadata": {
    "collapsed": false
   },
   "outputs": [
    {
     "data": {
      "text/plain": [
       "Ttest_indResult(statistic=46.636414352775716, pvalue=0.0)"
      ]
     },
     "execution_count": 165,
     "metadata": {},
     "output_type": "execute_result"
    }
   ],
   "source": [
    "# Q2: Use a t-test to test the hypothesis that employees who left the company had lower satisfaction levels than\n",
    "# those who did not. If significant, are the means different? Comment on your results. (Hint: Do the two populations \n",
    "# have equal variance?)\n",
    "\n",
    "from scipy.stats import ttest_ind\n",
    "\n",
    "ttest_ind(HR_data[HR_data.left == 0].satisfaction_level,\n",
    "          HR_data[HR_data.left == 1].satisfaction_level,\n",
    "          equal_var=False) # This is a 2-tailed t-test, need to divide the p-value by 2"
   ]
  },
  {
   "cell_type": "code",
   "execution_count": 166,
   "metadata": {
    "collapsed": false
   },
   "outputs": [
    {
     "data": {
      "text/plain": [
       "0.22671157871810688"
      ]
     },
     "execution_count": 166,
     "metadata": {},
     "output_type": "execute_result"
    }
   ],
   "source": [
    "HR_data[HR_data.left == 0].satisfaction_level.mean() - HR_data[HR_data.left==1].satisfaction_level.mean()"
   ]
  },
  {
   "cell_type": "code",
   "execution_count": 167,
   "metadata": {
    "collapsed": true
   },
   "outputs": [],
   "source": [
    "# The difference of the means is 0.227 "
   ]
  },
  {
   "cell_type": "code",
   "execution_count": 191,
   "metadata": {
    "collapsed": false
   },
   "outputs": [
    {
     "data": {
      "image/png": "[encoded data removed]",
      "text/plain": [
       "<matplotlib.figure.Figure at 0x1142ce9e8>"
      ]
     },
     "metadata": {},
     "output_type": "display_data"
    }
   ],
   "source": [
    "# Q3: Fit a normal curve to each group in part 2 and put them on the same plot next to each\n",
    "# other. Comment on your results.\n",
    "\n",
    "means = {'no': HR_data[HR_data.left == 0].satisfaction_level.mean(),\n",
    "         'yes': HR_data[HR_data.left == 1].satisfaction_level.mean()}\n",
    "\n",
    "\n",
    "stds = {'no': HR_data[HR_data.left == 0].satisfaction_level.std() / np.sqrt(len(HR_data[HR_data.left == 0])),\n",
    "        'yes': HR_data[HR_data.left == 1].satisfaction_level.std() / np.sqrt(len(HR_data[HR_data.left == 1]))}\n",
    "\n",
    "normals = {}\n",
    "x = {}\n",
    "\n",
    "for key in means.keys():\n",
    "    normals[key] = norm(loc = means[key], scale = stds[key])\n",
    "    x[key] = np.linspace(normals[key].ppf(0.01), normals[key].ppf(0.99), 100)\n",
    "\n",
    "plt.plot(x['no'], normals['no'].pdf(x['no']), label='no')\n",
    "plt.plot(x['yes'], normals['yes'].pdf(x['yes']), label='yes')\n",
    "plt.legend()\n",
    "plt.show()\n"
   ]
  },
  {
   "cell_type": "code",
   "execution_count": 173,
   "metadata": {
    "collapsed": false
   },
   "outputs": [],
   "source": [
    "# Q4: Test the hypothesis that the satisfaction level between each salary group, denoted by k, \n",
    "# differs signicantly from the mean. Namely, Ho: mu = muk, Ha: mu != mk"
   ]
  },
  {
   "cell_type": "code",
   "execution_count": 175,
   "metadata": {
    "collapsed": false
   },
   "outputs": [
    {
     "data": {
      "text/html": [
       "<div>\n",
       "<table border=\"1\" class=\"dataframe\">\n",
       "  <thead>\n",
       "    <tr style=\"text-align: right;\">\n",
       "      <th></th>\n",
       "      <th>satisfaction_level</th>\n",
       "      <th>last_evaluation</th>\n",
       "      <th>number_project</th>\n",
       "      <th>average_monthly_hours</th>\n",
       "      <th>time_spend_company</th>\n",
       "      <th>work_accident</th>\n",
       "      <th>left</th>\n",
       "      <th>promotion_last_5years</th>\n",
       "      <th>sales</th>\n",
       "      <th>salary</th>\n",
       "    </tr>\n",
       "  </thead>\n",
       "  <tbody>\n",
       "    <tr>\n",
       "      <th>0</th>\n",
       "      <td>0.38</td>\n",
       "      <td>0.53</td>\n",
       "      <td>2</td>\n",
       "      <td>157</td>\n",
       "      <td>3</td>\n",
       "      <td>0</td>\n",
       "      <td>1</td>\n",
       "      <td>0</td>\n",
       "      <td>sales</td>\n",
       "      <td>low</td>\n",
       "    </tr>\n",
       "    <tr>\n",
       "      <th>1</th>\n",
       "      <td>0.80</td>\n",
       "      <td>0.86</td>\n",
       "      <td>5</td>\n",
       "      <td>262</td>\n",
       "      <td>6</td>\n",
       "      <td>0</td>\n",
       "      <td>1</td>\n",
       "      <td>0</td>\n",
       "      <td>sales</td>\n",
       "      <td>medium</td>\n",
       "    </tr>\n",
       "    <tr>\n",
       "      <th>2</th>\n",
       "      <td>0.11</td>\n",
       "      <td>0.88</td>\n",
       "      <td>7</td>\n",
       "      <td>272</td>\n",
       "      <td>4</td>\n",
       "      <td>0</td>\n",
       "      <td>1</td>\n",
       "      <td>0</td>\n",
       "      <td>sales</td>\n",
       "      <td>medium</td>\n",
       "    </tr>\n",
       "    <tr>\n",
       "      <th>3</th>\n",
       "      <td>0.72</td>\n",
       "      <td>0.87</td>\n",
       "      <td>5</td>\n",
       "      <td>223</td>\n",
       "      <td>5</td>\n",
       "      <td>0</td>\n",
       "      <td>1</td>\n",
       "      <td>0</td>\n",
       "      <td>sales</td>\n",
       "      <td>low</td>\n",
       "    </tr>\n",
       "    <tr>\n",
       "      <th>4</th>\n",
       "      <td>0.37</td>\n",
       "      <td>0.52</td>\n",
       "      <td>2</td>\n",
       "      <td>159</td>\n",
       "      <td>3</td>\n",
       "      <td>0</td>\n",
       "      <td>1</td>\n",
       "      <td>0</td>\n",
       "      <td>sales</td>\n",
       "      <td>low</td>\n",
       "    </tr>\n",
       "  </tbody>\n",
       "</table>\n",
       "</div>"
      ],
      "text/plain": [
       "   satisfaction_level  last_evaluation  number_project  average_monthly_hours  \\\n",
       "0                0.38             0.53               2                    157   \n",
       "1                0.80             0.86               5                    262   \n",
       "2                0.11             0.88               7                    272   \n",
       "3                0.72             0.87               5                    223   \n",
       "4                0.37             0.52               2                    159   \n",
       "\n",
       "   time_spend_company  work_accident  left  promotion_last_5years  sales  \\\n",
       "0                   3              0     1                      0  sales   \n",
       "1                   6              0     1                      0  sales   \n",
       "2                   4              0     1                      0  sales   \n",
       "3                   5              0     1                      0  sales   \n",
       "4                   3              0     1                      0  sales   \n",
       "\n",
       "   salary  \n",
       "0     low  \n",
       "1  medium  \n",
       "2  medium  \n",
       "3     low  \n",
       "4     low  "
      ]
     },
     "execution_count": 175,
     "metadata": {},
     "output_type": "execute_result"
    }
   ],
   "source": [
    "HR_data.head()"
   ]
  },
  {
   "cell_type": "code",
   "execution_count": 185,
   "metadata": {
    "collapsed": false
   },
   "outputs": [
    {
     "name": "stdout",
     "output_type": "stream",
     "text": [
      "low: Ttest_1sampResult(statistic=-4.0585381216022212, pvalue=4.9895149767038095e-05)\n",
      "medium: Ttest_1sampResult(statistic=2.9429521364929117, pvalue=0.0032625787024487714)\n",
      "high: Ttest_1sampResult(statistic=3.8205997501861702, pvalue=0.00013974368695866474)\n"
     ]
    }
   ],
   "source": [
    "from scipy.stats import ttest_1samp\n",
    "\n",
    "mean_all = HR_data.satisfaction_level.mean()\n",
    "\n",
    "for level in HR_data.salary.unique():    \n",
    "    test = ttest_1samp(HR_data[HR_data. salary == level].satisfaction_level, mean_all) \n",
    "    print('{}: {}'.format(level, test))"
   ]
  },
  {
   "cell_type": "code",
   "execution_count": 187,
   "metadata": {
    "collapsed": true
   },
   "outputs": [],
   "source": [
    "# Q5: How would you interpret your results in part 5?\n",
    "# all p-values are less than 0.05 - so the means are statistically different from the average\n",
    "# of all the data"
   ]
  },
  {
   "cell_type": "code",
   "execution_count": 203,
   "metadata": {
    "collapsed": false
   },
   "outputs": [],
   "source": [
    "# Q6: Generate plots for part 5 as you did in part 3. What conclusions can you draw from the \n",
    "# plot?\n",
    "\n",
    "salary_means = {}\n",
    "salary_std = {}\n",
    "\n",
    "for grp in HR_data.salary.unique():  \n",
    "    salary_means[grp] = HR_data[HR_data.salary == grp].satisfaction_level.mean()\n",
    "    salary_std[grp] = HR_data[HR_data.salary == grp].satisfaction_level.std() / np.sqrt(len(HR_data[HR_data.salary == grp]))\n",
    "    \n",
    "normals = {}\n",
    "x = {}\n",
    "\n",
    "for grp in HR_data.salary.unique():\n",
    "    normals[grp] = norm(loc=salary_means[grp], scale=salary_std[grp])\n",
    "    x[grp] = np.linspace(normals[grp].ppf(0.01), normals[grp].ppf(0.99), 100)"
   ]
  },
  {
   "cell_type": "code",
   "execution_count": 205,
   "metadata": {
    "collapsed": false
   },
   "outputs": [
    {
     "data": {
      "image/png": "[encoded data removed]",
      "text/plain": [
       "<matplotlib.figure.Figure at 0x11446d3c8>"
      ]
     },
     "metadata": {},
     "output_type": "display_data"
    }
   ],
   "source": [
    "plt.plot(x['low'], normals['low'].pdf(x['low']), label='low')\n",
    "plt.plot(x['medium'], normals['medium'].pdf(x['medium']), label='medium')\n",
    "plt.plot(x['high'], normals['high'].pdf(x['high']), label='high')\n",
    "plt.xlabel('satisfaction_level')\n",
    "plt.title('Satisfaction Level by Salary Group')\n",
    "plt.legend()\n",
    "plt.show()"
   ]
  },
  {
   "cell_type": "code",
   "execution_count": 206,
   "metadata": {
    "collapsed": true
   },
   "outputs": [],
   "source": [
    "# Salary and satisfaction level appear to be positively correlated "
   ]
  },
  {
   "cell_type": "code",
   "execution_count": 208,
   "metadata": {
    "collapsed": false
   },
   "outputs": [
    {
     "data": {
      "text/html": [
       "<div>\n",
       "<table border=\"1\" class=\"dataframe\">\n",
       "  <thead>\n",
       "    <tr style=\"text-align: right;\">\n",
       "      <th></th>\n",
       "      <th>satisfaction_level</th>\n",
       "      <th>last_evaluation</th>\n",
       "      <th>number_project</th>\n",
       "      <th>average_monthly_hours</th>\n",
       "      <th>time_spend_company</th>\n",
       "      <th>work_accident</th>\n",
       "      <th>left</th>\n",
       "      <th>promotion_last_5years</th>\n",
       "      <th>sales</th>\n",
       "      <th>salary</th>\n",
       "    </tr>\n",
       "  </thead>\n",
       "  <tbody>\n",
       "    <tr>\n",
       "      <th>0</th>\n",
       "      <td>0.38</td>\n",
       "      <td>0.53</td>\n",
       "      <td>2</td>\n",
       "      <td>157</td>\n",
       "      <td>3</td>\n",
       "      <td>0</td>\n",
       "      <td>1</td>\n",
       "      <td>0</td>\n",
       "      <td>sales</td>\n",
       "      <td>low</td>\n",
       "    </tr>\n",
       "    <tr>\n",
       "      <th>1</th>\n",
       "      <td>0.80</td>\n",
       "      <td>0.86</td>\n",
       "      <td>5</td>\n",
       "      <td>262</td>\n",
       "      <td>6</td>\n",
       "      <td>0</td>\n",
       "      <td>1</td>\n",
       "      <td>0</td>\n",
       "      <td>sales</td>\n",
       "      <td>medium</td>\n",
       "    </tr>\n",
       "    <tr>\n",
       "      <th>2</th>\n",
       "      <td>0.11</td>\n",
       "      <td>0.88</td>\n",
       "      <td>7</td>\n",
       "      <td>272</td>\n",
       "      <td>4</td>\n",
       "      <td>0</td>\n",
       "      <td>1</td>\n",
       "      <td>0</td>\n",
       "      <td>sales</td>\n",
       "      <td>medium</td>\n",
       "    </tr>\n",
       "    <tr>\n",
       "      <th>3</th>\n",
       "      <td>0.72</td>\n",
       "      <td>0.87</td>\n",
       "      <td>5</td>\n",
       "      <td>223</td>\n",
       "      <td>5</td>\n",
       "      <td>0</td>\n",
       "      <td>1</td>\n",
       "      <td>0</td>\n",
       "      <td>sales</td>\n",
       "      <td>low</td>\n",
       "    </tr>\n",
       "    <tr>\n",
       "      <th>4</th>\n",
       "      <td>0.37</td>\n",
       "      <td>0.52</td>\n",
       "      <td>2</td>\n",
       "      <td>159</td>\n",
       "      <td>3</td>\n",
       "      <td>0</td>\n",
       "      <td>1</td>\n",
       "      <td>0</td>\n",
       "      <td>sales</td>\n",
       "      <td>low</td>\n",
       "    </tr>\n",
       "  </tbody>\n",
       "</table>\n",
       "</div>"
      ],
      "text/plain": [
       "   satisfaction_level  last_evaluation  number_project  average_monthly_hours  \\\n",
       "0                0.38             0.53               2                    157   \n",
       "1                0.80             0.86               5                    262   \n",
       "2                0.11             0.88               7                    272   \n",
       "3                0.72             0.87               5                    223   \n",
       "4                0.37             0.52               2                    159   \n",
       "\n",
       "   time_spend_company  work_accident  left  promotion_last_5years  sales  \\\n",
       "0                   3              0     1                      0  sales   \n",
       "1                   6              0     1                      0  sales   \n",
       "2                   4              0     1                      0  sales   \n",
       "3                   5              0     1                      0  sales   \n",
       "4                   3              0     1                      0  sales   \n",
       "\n",
       "   salary  \n",
       "0     low  \n",
       "1  medium  \n",
       "2  medium  \n",
       "3     low  \n",
       "4     low  "
      ]
     },
     "execution_count": 208,
     "metadata": {},
     "output_type": "execute_result"
    }
   ],
   "source": [
    "# Q7: Repeat parts 4-6 on a hypothesis of your choosing.\n",
    "\n",
    "HR_data.head()"
   ]
  },
  {
   "cell_type": "code",
   "execution_count": 212,
   "metadata": {
    "collapsed": false
   },
   "outputs": [
    {
     "name": "stdout",
     "output_type": "stream",
     "text": [
      "low: mean=0.717017495899394, Ttest_1sampResult(statistic=0.45208145354983253, pvalue=0.65122370874605506)\n",
      "medium: mean=0.7173223704622999, Ttest_1sampResult(statistic=0.57295999454468205, pvalue=0.56669176972026847)\n",
      "high: mean=0.7043249797898137, Ttest_1sampResult(statistic=-2.6114678767639132, pvalue=0.0091246265533979163)\n"
     ]
    }
   ],
   "source": [
    "from scipy.stats import ttest_1samp\n",
    "\n",
    "mean_all = HR_data.last_evaluation.mean()\n",
    "\n",
    "for level in HR_data.salary.unique():\n",
    "    mean = HR_data[HR_data.salary == level].last_evaluation.mean()\n",
    "    test = ttest_1samp(HR_data[HR_data.salary == level].last_evaluation, mean_all) \n",
    "    print('{}: mean={}, {}'.format(level, mean, test))"
   ]
  },
  {
   "cell_type": "code",
   "execution_count": 214,
   "metadata": {
    "collapsed": false
   },
   "outputs": [
    {
     "data": {
      "image/png": "[encoded data removed]",
      "text/plain": [
       "<matplotlib.figure.Figure at 0x11447e828>"
      ]
     },
     "metadata": {},
     "output_type": "display_data"
    }
   ],
   "source": [
    "means = {}\n",
    "std = {}\n",
    "\n",
    "for grp in HR_data.salary.unique():  \n",
    "    salary_means[grp] = HR_data[HR_data.salary == grp].last_evaluation.mean()\n",
    "    salary_std[grp] = HR_data[HR_data.salary == grp].last_evaluation.std() / np.sqrt(len(HR_data[HR_data.salary == grp]))\n",
    "    \n",
    "normals = {}\n",
    "x = {}\n",
    "\n",
    "for grp in HR_data.salary.unique():\n",
    "    normals[grp] = norm(loc=salary_means[grp], scale=salary_std[grp])\n",
    "    x[grp] = np.linspace(normals[grp].ppf(0.01), normals[grp].ppf(0.99), 100)\n",
    "    \n",
    "plt.plot(x['low'], normals['low'].pdf(x['low']), label='low')\n",
    "plt.plot(x['medium'], normals['medium'].pdf(x['medium']), label='medium')\n",
    "plt.plot(x['high'], normals['high'].pdf(x['high']), label='high')\n",
    "plt.xlabel('satisfaction_level')\n",
    "plt.title('Satisfaction Level by Salary Group')\n",
    "plt.legend()\n",
    "plt.show()"
   ]
  },
  {
   "cell_type": "code",
   "execution_count": 215,
   "metadata": {
    "collapsed": true
   },
   "outputs": [],
   "source": [
    "# The high salary employees have a statistically different mean for last evaluation (slightly lower) than those with \n",
    "# medium or low salaries which are not statistically different than the mean of all employees"
   ]
  },
  {
   "cell_type": "code",
   "execution_count": 218,
   "metadata": {
    "collapsed": false
   },
   "outputs": [
    {
     "name": "stdout",
     "output_type": "stream",
     "text": [
      "mean_left = 0.7154733986699274, mean_stayed = 0.7181125735088183\n"
     ]
    }
   ],
   "source": [
    "from scipy.stats import ttest_ind\n",
    "\n",
    "mean_left = HR_data[HR_data.left == 0].last_evaluation.mean()\n",
    "mean_stay = HR_data[HR_data.left == 1].last_evaluation.mean()\n",
    "\n",
    "print('mean_left = {}, mean_stayed = {}'.format(mean_left, mean_stay))"
   ]
  },
  {
   "cell_type": "code",
   "execution_count": 220,
   "metadata": {
    "collapsed": false
   },
   "outputs": [
    {
     "data": {
      "text/plain": [
       "Ttest_indResult(statistic=-0.72534234158918753, pvalue=0.46827496132319124)"
      ]
     },
     "execution_count": 220,
     "metadata": {},
     "output_type": "execute_result"
    }
   ],
   "source": [
    "ttest_ind(HR_data[HR_data.left == 0].last_evaluation,\n",
    "          HR_data[HR_data.left == 1].last_evaluation,\n",
    "          equal_var=False)"
   ]
  },
  {
   "cell_type": "code",
   "execution_count": 221,
   "metadata": {
    "collapsed": true
   },
   "outputs": [],
   "source": [
    "# no significant difference in the mean evaluation of those that left compared to those that stayed"
   ]
  },
  {
   "cell_type": "code",
   "execution_count": 224,
   "metadata": {
    "collapsed": false
   },
   "outputs": [
    {
     "data": {
      "image/png": "[encoded data removed]",
      "text/plain": [
       "<matplotlib.figure.Figure at 0x10f6f6ef0>"
      ]
     },
     "metadata": {},
     "output_type": "display_data"
    }
   ],
   "source": [
    "means = {'stay': HR_data[HR_data.left == 0].last_evaluation.mean(),\n",
    "         'left': HR_data[HR_data.left == 1].last_evaluation.mean()}\n",
    "\n",
    "\n",
    "stds = {'stay': HR_data[HR_data.left == 0].last_evaluation.std() / np.sqrt(len(HR_data[HR_data.left == 0])),\n",
    "        'left': HR_data[HR_data.left == 1].last_evaluation.std() / np.sqrt(len(HR_data[HR_data.left == 1]))}\n",
    "\n",
    "normals = {}\n",
    "x = {}\n",
    "\n",
    "for key in means.keys():\n",
    "    normals[key] = norm(loc = means[key], scale = stds[key])\n",
    "    x[key] = np.linspace(normals[key].ppf(0.01), normals[key].ppf(0.99), 100)\n",
    "\n",
    "plt.plot(x['stay'], normals['stay'].pdf(x['stay']), label='stay')\n",
    "plt.plot(x['left'], normals['left'].pdf(x['left']), label='left')\n",
    "plt.legend()\n",
    "plt.show()\n"
   ]
  },
  {
   "cell_type": "code",
   "execution_count": 226,
   "metadata": {
    "collapsed": true
   },
   "outputs": [],
   "source": [
    "# though there is no statisitcally significant difference in the means, there appears to be a lot more variance in\n",
    "# those that left versus those that stayed. "
   ]
  },
  {
   "cell_type": "code",
   "execution_count": 231,
   "metadata": {
    "collapsed": false
   },
   "outputs": [
    {
     "data": {
      "text/plain": [
       "0.77046543921945354"
      ]
     },
     "execution_count": 231,
     "metadata": {},
     "output_type": "execute_result"
    }
   ],
   "source": [
    "# Q8: Recall that Power is the probability of failing to reject the null hypothesis when it is false (thus more power \n",
    "# is good). Compute the power for the hypothesis that the satisfaction level of high paid employees is different than\n",
    "# that of medium paid employees using a t distribution.\n",
    "\n",
    "effect_size = HR_data[HR_data.salary == 'high'].satisfaction_level.mean() - HR_data[HR_data.salary == 'medium'].satisfaction_level.mean()\n",
    "effect_size = effect_size / HR_data.satisfaction_level.std()\n",
    "r = len(HR_data[HR_data.salary == 'high']) / len(HR_data[HR_data.salary == 'medium'])\n",
    "sm.TTestIndPower().power(effect_size, len(HR_data[HR_data.left == 0]), alpha=0.05, ratio=r)"
   ]
  },
  {
   "cell_type": "markdown",
   "metadata": {},
   "source": [
    "## Bootstrapping\n",
    "Bootstrapping is an immensely useful technique in practice.  Very often you may find yourself in a situation where you want to compute a statistic, but lack sufficient data to do so.  Bootstrapping works as a remedy to this problem.\n",
    "\n",
    "Recall that the bootstrapping algorithm breaks down as follows:\n",
    "1. Sample n observations with replacement from the observed data resulting in one simulated complete data set. \n",
    "1. Take the statistic of the simulated data set\n",
    "1. Repeat these two steps B times, resulting in B simulated statistics\n",
    "1. These statistics are approximately drawn from the sampling distribution of the statistic of n observations\n",
    "\n",
    "In this exercise, you will implement this algorithm on the HR data.\n",
    "\n",
    "Write a function that can perform boostrapping for the median of a set of n samples in the HR data set.  Test this function on the `satisfaction_level` with `n = 100` and `b = 100` and compare your results to the true median.  Also compute the standard deviation of the bootstrapped median."
   ]
  },
  {
   "cell_type": "code",
   "execution_count": 232,
   "metadata": {
    "collapsed": true
   },
   "outputs": [],
   "source": [
    "def med_bstrap(col, n, b):\n",
    "    med = []\n",
    "    for i in range(b):\n",
    "        data_temp = col.sample(n=n, replace=True)\n",
    "        med_temp = np.median(data_temp)\n",
    "        med.append(med_temp)\n",
    "        \n",
    "    return med"
   ]
  },
  {
   "cell_type": "code",
   "execution_count": 234,
   "metadata": {
    "collapsed": false
   },
   "outputs": [
    {
     "data": {
      "text/plain": [
       "(0.64444999999999997, 0.64000000000000001)"
      ]
     },
     "execution_count": 234,
     "metadata": {},
     "output_type": "execute_result"
    }
   ],
   "source": [
    "(np.mean(med_bstrap(HR_data.satisfaction_level, 100, 100)), np.median(HR_data.satisfaction_level))"
   ]
  },
  {
   "cell_type": "code",
   "execution_count": 236,
   "metadata": {
    "collapsed": false
   },
   "outputs": [
    {
     "data": {
      "text/plain": [
       "0.035432294591234141"
      ]
     },
     "execution_count": 236,
     "metadata": {},
     "output_type": "execute_result"
    }
   ],
   "source": [
    "np.std(med_bstrap(HR_data.satisfaction_level, 100, 100))"
   ]
  },
  {
   "cell_type": "code",
   "execution_count": null,
   "metadata": {
    "collapsed": true
   },
   "outputs": [],
   "source": []
  }
 ],
 "metadata": {
  "anaconda-cloud": {},
  "kernelspec": {
   "display_name": "Python 3",
   "language": "python",
   "name": "python3"
  },
  "language_info": {
   "codemirror_mode": {
    "name": "ipython",
    "version": 3
   },
   "file_extension": ".py",
   "mimetype": "text/x-python",
   "name": "python",
   "nbconvert_exporter": "python",
   "pygments_lexer": "ipython3",
   "version": "3.6.0"
  }
 },
 "nbformat": 4,
 "nbformat_minor": 2
}
